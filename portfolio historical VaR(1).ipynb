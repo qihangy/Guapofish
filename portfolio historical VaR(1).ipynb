{
 "cells": [
  {
   "cell_type": "code",
   "execution_count": 137,
   "metadata": {},
   "outputs": [],
   "source": [
    "### portfolio historical VaR\n",
    "\n",
    "# ! pip install pandas-datareader\n",
    "import numpy as np\n",
    "import pandas as pd\n",
    "import matplotlib.pyplot as plt\n",
    "from pandas_datareader import data\n",
    "import pandas_datareader as pdr\n",
    "from datetime import datetime\n"
   ]
  },
  {
   "cell_type": "code",
   "execution_count": 138,
   "metadata": {},
   "outputs": [],
   "source": [
    "stocks = ['AAPL','IBM','TSLA','FB','MSFT','BAC','AMZN','T','WFC','GE']\n",
    "portfolio = pdr.get_data_yahoo(symbols=stocks , start=datetime(2018, 3, 26), end=datetime(2019, 3, 25))\n",
    "portfolio.dropna().head();\n"
   ]
  },
  {
   "cell_type": "code",
   "execution_count": 139,
   "metadata": {
    "scrolled": true
   },
   "outputs": [
    {
     "name": "stderr",
     "output_type": "stream",
     "text": [
      "/Users/guapofish/anaconda3/lib/python3.7/site-packages/ipykernel_launcher.py:4: SettingWithCopyWarning: \n",
      "A value is trying to be set on a copy of a slice from a DataFrame.\n",
      "Try using .loc[row_indexer,col_indexer] = value instead\n",
      "\n",
      "See the caveats in the documentation: http://pandas.pydata.org/pandas-docs/stable/indexing.html#indexing-view-versus-copy\n",
      "  after removing the cwd from sys.path.\n"
     ]
    }
   ],
   "source": [
    "#We create a portfolio with one share for each stock\n",
    "tickets = list(portfolio['Adj Close'].columns)\n",
    "df = portfolio['Adj Close']\n",
    "df['total'] = df[tickets].sum(axis=1)\n",
    "df1 = df['total'].pct_change()\n",
    "df['returns']= df['total'].pct_change()\n",
    "df.dropna().head();\n"
   ]
  },
  {
   "cell_type": "code",
   "execution_count": 141,
   "metadata": {},
   "outputs": [
    {
     "data": {
      "text/plain": [
       "<matplotlib.axes._subplots.AxesSubplot at 0x1177ff828>"
      ]
     },
     "execution_count": 141,
     "metadata": {},
     "output_type": "execute_result"
    },
    {
     "data": {
      "image/png": "[encoded data removed]",
      "text/plain": [
       "<Figure size 432x288 with 1 Axes>"
      ]
     },
     "metadata": {
      "needs_background": "light"
     },
     "output_type": "display_data"
    }
   ],
   "source": [
    "from scipy.stats import norm \n",
    "import matplotlib.mlab as mlab\n",
    "mean_portfolio = np.mean(df1.values.tolist()[1:])\n",
    "std_portfolio = np.std(df1.values.tolist()[1:])\n",
    "df['returns'].hist(bins = 40, normed = True, histtype = 'stepfilled', alpha = 0.5)"
   ]
  },
  {
   "cell_type": "code",
   "execution_count": 142,
   "metadata": {},
   "outputs": [
    {
     "name": "stdout",
     "output_type": "stream",
     "text": [
      "Confidence Level      Value at Risk\n",
      "------------------  ---------------\n",
      "90%                      -0.024038\n",
      "95%                      -0.0310008\n",
      "99%                      -0.0440619\n"
     ]
    }
   ],
   "source": [
    "# ! pip install tabulate\n",
    "from tabulate import tabulate\n",
    "VaR_90 = norm.ppf(1-0.9, mean_portfolio, std_portfolio)\n",
    "VaR_95 = norm.ppf(1-0.95, mean_portfolio,std_portfolio)\n",
    "VaR_99 = norm.ppf(1-0.99, mean_portfolio, std_portfolio)\n",
    "\n",
    "print(tabulate([['90%',VaR_90],['95%',VaR_95],['99%',VaR_99]], headers = ['Confidence Level','Value at Risk']))\n"
   ]
  },
  {
   "cell_type": "code",
   "execution_count": null,
   "metadata": {},
   "outputs": [],
   "source": []
  },
  {
   "cell_type": "code",
   "execution_count": 143,
   "metadata": {},
   "outputs": [
    {
     "data": {
      "text/plain": [
       "array([0.06662575, 0.60912643, 0.0116865 , 0.06266423, 0.00474896,\n",
       "       0.05734411, 0.03610587, 0.01278071, 0.11908788, 0.01982955])"
      ]
     },
     "execution_count": 143,
     "metadata": {},
     "output_type": "execute_result"
    }
   ],
   "source": [
    "## portfolio Parametric VaR \n",
    "# calculate the weight\n",
    "weight_list = list(df.iloc[0][:-1])\n",
    "w = np.zeros(len(weight_list)-1)\n",
    "for i in range(len(weight_list)-1):\n",
    "    w[i] = weight_list[i]/weight_list[-1]\n",
    "w\n"
   ]
  },
  {
   "cell_type": "code",
   "execution_count": 144,
   "metadata": {},
   "outputs": [
    {
     "data": {
      "text/plain": [
       "array([[ 1.14028315e-03,  7.44914178e-04, -4.79967972e-04, ...,\n",
       "         1.22971500e-04, -6.31587124e-05,  3.88162420e-05],\n",
       "       [ 7.44914178e-04,  8.91361548e-04, -1.93905980e-04, ...,\n",
       "         1.76610325e-04,  5.05658990e-05, -4.19021056e-05],\n",
       "       [-4.79967972e-04, -1.93905980e-04,  2.67751828e-04, ...,\n",
       "        -2.09944606e-05,  6.16963651e-05, -3.36433888e-06],\n",
       "       ...,\n",
       "       [ 1.22971500e-04,  1.76610325e-04, -2.09944606e-05, ...,\n",
       "         1.56887063e-04,  2.06979255e-05, -2.27569975e-05],\n",
       "       [-6.31587124e-05,  5.05658990e-05,  6.16963651e-05, ...,\n",
       "         2.06979255e-05,  7.78813220e-05, -3.81953694e-05],\n",
       "       [ 3.88162420e-05, -4.19021056e-05, -3.36433888e-06, ...,\n",
       "        -2.27569975e-05, -3.81953694e-05,  1.29469536e-04]])"
      ]
     },
     "execution_count": 144,
     "metadata": {},
     "output_type": "execute_result"
    }
   ],
   "source": [
    "# Compute variance-covariance matrix\n",
    "covmat = np.cov(portfolio.pct_change()['Adj Close'].dropna())\n",
    "covmat\n"
   ]
  },
  {
   "cell_type": "code",
   "execution_count": 145,
   "metadata": {},
   "outputs": [
    {
     "name": "stdout",
     "output_type": "stream",
     "text": [
      "Confidence Level      Value at Risk\n",
      "------------------  ---------------\n",
      "90%                      -0.0237969\n",
      "95%                      -0.0343944\n",
      "99%                      -0.0469407\n"
     ]
    },
    {
     "name": "stderr",
     "output_type": "stream",
     "text": [
      "/Users/guapofish/anaconda3/lib/python3.7/site-packages/ipykernel_launcher.py:1: SettingWithCopyWarning: \n",
      "A value is trying to be set on a copy of a slice from a DataFrame\n",
      "\n",
      "See the caveats in the documentation: http://pandas.pydata.org/pandas-docs/stable/indexing.html#indexing-view-versus-copy\n",
      "  \"\"\"Entry point for launching an IPython kernel.\n"
     ]
    }
   ],
   "source": [
    "df.sort_values('returns',inplace = True, ascending = True)\n",
    "VaR_90 = df['returns'].quantile(0.1)\n",
    "VaR_95 = df['returns'].quantile(0.05)\n",
    "VaR_99 = df['returns'].quantile(0.01)\n",
    "\n",
    "print(tabulate([['90%',VaR_90],['95%',VaR_95],['99%',VaR_99]], headers = ['Confidence Level','Value at Risk']))"
   ]
  },
  {
   "cell_type": "markdown",
   "metadata": {},
   "source": []
  }
 ],
 "metadata": {
  "kernelspec": {
   "display_name": "Python 3",
   "language": "python",
   "name": "python3"
  },
  "language_info": {
   "codemirror_mode": {
    "name": "ipython",
    "version": 3
   },
   "file_extension": ".py",
   "mimetype": "text/x-python",
   "name": "python",
   "nbconvert_exporter": "python",
   "pygments_lexer": "ipython3",
   "version": "3.7.1"
  }
 },
 "nbformat": 4,
 "nbformat_minor": 2
}
