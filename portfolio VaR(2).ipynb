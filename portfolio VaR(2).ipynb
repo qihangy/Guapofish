{
 "cells": [
  {
   "cell_type": "code",
   "execution_count": 188,
   "metadata": {},
   "outputs": [],
   "source": [
    "### one stock historical VaR\n",
    "\n",
    "# ! pip install pandas-datareader\n",
    "import numpy as np\n",
    "import pandas as pd\n",
    "import matplotlib.pyplot as plt\n",
    "from pandas_datareader import data\n",
    "import pandas_datareader as pdr\n",
    "from datetime import datetime\n"
   ]
  },
  {
   "cell_type": "code",
   "execution_count": 189,
   "metadata": {},
   "outputs": [],
   "source": [
    "ibm = pdr.get_data_yahoo(symbols='IBM', start=datetime(2018, 3, 26), end=datetime(2019, 3, 25))\n",
    "ibm_adj = ibm['Adj Close']\n",
    "ibm['returns'] = ibm['Adj Close'].pct_change()\n"
   ]
  },
  {
   "cell_type": "code",
   "execution_count": 190,
   "metadata": {},
   "outputs": [
    {
     "data": {
      "text/plain": [
       "<matplotlib.axes._subplots.AxesSubplot at 0x1a1f030d68>"
      ]
     },
     "execution_count": 190,
     "metadata": {},
     "output_type": "execute_result"
    },
    {
     "data": {
      "image/png": "[encoded data removed]",
      "text/plain": [
       "<Figure size 432x288 with 1 Axes>"
      ]
     },
     "metadata": {
      "needs_background": "light"
     },
     "output_type": "display_data"
    }
   ],
   "source": [
    "from scipy.stats import norm \n",
    "import matplotlib.mlab as mlab\n",
    "mean_ibm = np.mean(ibm['returns'])\n",
    "std_ibm = np.std(ibm['returns'])\n",
    "ibm['returns'].hist(bins = 40, normed = True, histtype = 'stepfilled', alpha = 0.5)\n",
    "\n"
   ]
  },
  {
   "cell_type": "code",
   "execution_count": 191,
   "metadata": {},
   "outputs": [
    {
     "name": "stdout",
     "output_type": "stream",
     "text": [
      "Confidence Level      Value at Risk\n",
      "------------------  ---------------\n",
      "90%                      -0.0196344\n",
      "95%                      -0.0251757\n",
      "99%                      -0.0355703\n"
     ]
    }
   ],
   "source": [
    "# ! pip install tabulate\n",
    "from tabulate import tabulate\n",
    "VaR_90 = norm.ppf(1-0.9, mean_ibm, std_ibm)\n",
    "VaR_95 = norm.ppf(1-0.95, mean_ibm, std_ibm)\n",
    "VaR_99 = norm.ppf(1-0.99, mean_ibm, std_ibm)\n",
    "\n",
    "print(tabulate([['90%',VaR_90],['95%',VaR_95],['99%',VaR_99]], headers = ['Confidence Level','Value at Risk']))\n"
   ]
  },
  {
   "cell_type": "code",
   "execution_count": 192,
   "metadata": {},
   "outputs": [
    {
     "name": "stdout",
     "output_type": "stream",
     "text": [
      "Confidence Level      Value at Risk\n",
      "------------------  ---------------\n",
      "90%                      -0.0141695\n",
      "95%                      -0.0257915\n",
      "99%                      -0.0391194\n"
     ]
    }
   ],
   "source": [
    "## one stock Parametric VaR \n",
    "ibm.sort_values('returns',inplace = True, ascending = True)\n",
    "VaR_90 = ibm['returns'].quantile(0.1)\n",
    "VaR_95 = ibm['returns'].quantile(0.05)\n",
    "VaR_99 = ibm['returns'].quantile(0.01)\n",
    "\n",
    "print(tabulate([['90%',VaR_90],['95%',VaR_95],['99%',VaR_99]], headers = ['Confidence Level','Value at Risk']))\n"
   ]
  },
  {
   "cell_type": "code",
   "execution_count": 193,
   "metadata": {},
   "outputs": [
    {
     "data": {
      "image/png": "[encoded data removed]",
      "text/plain": [
       "<Figure size 432x288 with 1 Axes>"
      ]
     },
     "metadata": {
      "needs_background": "light"
     },
     "output_type": "display_data"
    },
    {
     "name": "stdout",
     "output_type": "stream",
     "text": [
      "Confidence Level      Value at Risk\n",
      "------------------  ---------------\n",
      "90%                        -2.60413\n",
      "95%                        -3.33409\n",
      "99%                        -4.70339\n"
     ]
    }
   ],
   "source": [
    "## one stock historical loss and profit VaR\n",
    "a = ibm_adj \n",
    "b = a[1:]\n",
    "c = [0]*len(b)\n",
    "for i in range(len(b)):\n",
    "    c[i] = b[i] - a[i]\n",
    "\n",
    "mean_ibm_pl = np.mean(c)\n",
    "std_ibm_pl = np.std(c)   \n",
    "plt.hist(c,bins = 40)\n",
    "plt.xlabel('returns')\n",
    "plt.ylabel('Frequancy')\n",
    "plt.grid(True)\n",
    "plt.show()\n",
    "\n",
    "VaR_90 = norm.ppf(1-0.9, mean_ibm_pl, std_ibm_pl)\n",
    "VaR_95 = norm.ppf(1-0.95, mean_ibm_pl, std_ibm_pl)\n",
    "VaR_99 = norm.ppf(1-0.99, mean_ibm_pl, std_ibm_pl)\n",
    "\n",
    "print(tabulate([['90%',VaR_90],['95%',VaR_95],['99%',VaR_99]], headers = ['Confidence Level','Value at Risk']))\n"
   ]
  },
  {
   "cell_type": "code",
   "execution_count": 205,
   "metadata": {},
   "outputs": [
    {
     "name": "stdout",
     "output_type": "stream",
     "text": [
      "Confidence Level      Value at Risk\n",
      "------------------  ---------------\n",
      "90%                        -1.99661\n",
      "95%                        -3.31911\n",
      "99%                        -4.77711\n"
     ]
    }
   ],
   "source": [
    "## one stock Parametric loss and profit VaR\n",
    "c.sort()\n",
    "VaR_90 = np.percentile(c,10)\n",
    "VaR_95 = np.percentile(c,5)\n",
    "VaR_99 = np.percentile(c,1)\n",
    "\n",
    "print(tabulate([['90%',VaR_90],['95%',VaR_95],['99%',VaR_99]], headers = ['Confidence Level','Value at Risk']))\n"
   ]
  },
  {
   "cell_type": "code",
   "execution_count": 219,
   "metadata": {},
   "outputs": [],
   "source": [
    "###  portfolio historical VaR(ibm & aapl; equal share)\n",
    "aapl = pdr.get_data_yahoo(symbols='AAPL', start=datetime(2018, 3, 26), end=datetime(2019, 3, 25))\n",
    "aapl_adj = aapl['Adj Close']\n",
    "aapl['total'] = aapl['Adj Close'] +ibm['Adj Close'] \n",
    "aapl['returns'] = aapl['total'].pct_change()"
   ]
  },
  {
   "cell_type": "code",
   "execution_count": 224,
   "metadata": {},
   "outputs": [
    {
     "name": "stdout",
     "output_type": "stream",
     "text": [
      "Confidence Level      Value at Risk\n",
      "------------------  ---------------\n",
      "90%                      -0.0191449\n",
      "95%                      -0.0246445\n",
      "99%                      -0.0349609\n"
     ]
    },
    {
     "data": {
      "image/png": "[encoded data removed]",
      "text/plain": [
       "<Figure size 432x288 with 1 Axes>"
      ]
     },
     "metadata": {
      "needs_background": "light"
     },
     "output_type": "display_data"
    }
   ],
   "source": [
    "mean_aapl = np.mean(aapl['returns'])\n",
    "std_aapl = np.std(aapl['returns'])\n",
    "aapl['returns'].hist(bins = 40, normed = True, histtype = 'stepfilled', alpha = 0.5)\n",
    "\n",
    "VaR_90 = norm.ppf(1-0.9, mean_aapl, std_aapl)\n",
    "VaR_95 = norm.ppf(1-0.95, mean_aapl, std_aapl)\n",
    "VaR_99 = norm.ppf(1-0.99, mean_aapl, std_aapl)\n",
    "\n",
    "print(tabulate([['90%',VaR_90],['95%',VaR_95],['99%',VaR_99]], headers = ['Confidence Level','Value at Risk']))"
   ]
  },
  {
   "cell_type": "code",
   "execution_count": 221,
   "metadata": {},
   "outputs": [
    {
     "name": "stdout",
     "output_type": "stream",
     "text": [
      "Confidence Level      Value at Risk\n",
      "------------------  ---------------\n",
      "90%                      -0.0179447\n",
      "95%                      -0.0281137\n",
      "99%                      -0.0399161\n"
     ]
    }
   ],
   "source": [
    "##  portfolio Parametric VaR \n",
    "aapl.sort_values('returns',inplace = True, ascending = True)\n",
    "VaR_90 = aapl['returns'].quantile(0.1)\n",
    "VaR_95 = aapl['returns'].quantile(0.05)\n",
    "VaR_99 = aapl['returns'].quantile(0.01)\n",
    "\n",
    "print(tabulate([['90%',VaR_90],['95%',VaR_95],['99%',VaR_99]], headers = ['Confidence Level','Value at Risk']))\n"
   ]
  },
  {
   "cell_type": "code",
   "execution_count": 242,
   "metadata": {},
   "outputs": [
    {
     "data": {
      "image/png": "[encoded data removed]",
      "text/plain": [
       "<Figure size 432x288 with 1 Axes>"
      ]
     },
     "metadata": {
      "needs_background": "light"
     },
     "output_type": "display_data"
    },
    {
     "name": "stdout",
     "output_type": "stream",
     "text": [
      "Confidence Level      Value at Risk\n",
      "------------------  ---------------\n",
      "90%                        -5.97486\n",
      "95%                        -7.68143\n",
      "99%                       -10.8827\n"
     ]
    }
   ],
   "source": [
    "## portfolio historical loss and profit VaR\n",
    "a = aapl['Adj Close'] +ibm['Adj Close']\n",
    "b = a[1:]\n",
    "c = [0]*len(b)\n",
    "for i in range(len(b)):\n",
    "    c[i] = b[i] - a[i]\n",
    "\n",
    "mean_portfolio_pl = np.mean(c)\n",
    "std_portfolio_pl = np.std(c)   \n",
    "plt.hist(c,bins = 40)\n",
    "plt.xlabel('returns')\n",
    "plt.ylabel('Frequancy')\n",
    "plt.grid(True)\n",
    "plt.show()\n",
    "\n",
    "VaR_90 = norm.ppf(1-0.9, mean_portfolio_pl, std_portfolio_pl)\n",
    "VaR_95 = norm.ppf(1-0.95, mean_portfolio_pl, std_portfolio_pl)\n",
    "VaR_99 = norm.ppf(1-0.99, mean_portfolio_pl, std_portfolio_pl)\n",
    "\n",
    "print(tabulate([['90%',VaR_90],['95%',VaR_95],['99%',VaR_99]], headers = ['Confidence Level','Value at Risk']))\n",
    "\n"
   ]
  },
  {
   "cell_type": "code",
   "execution_count": 379,
   "metadata": {},
   "outputs": [],
   "source": [
    "## portfolio historical loss and profit VaR\n",
    "a = aapl['Adj Close'] +ibm['Adj Close']\n",
    "b = a[1:]\n",
    "c = [0]*len(b)\n",
    "for i in range(len(b)):\n",
    "    c[i] = b[i] - a[i]\n",
    "\n"
   ]
  },
  {
   "cell_type": "code",
   "execution_count": 380,
   "metadata": {},
   "outputs": [
    {
     "name": "stdout",
     "output_type": "stream",
     "text": [
      "Confidence Level      Value at Risk\n",
      "------------------  ---------------\n",
      "90%                        -5.84112\n",
      "95%                        -8.73131\n",
      "99%                       -13.8877\n"
     ]
    }
   ],
   "source": [
    "## portfolio Parametric loss and profit VaR\n",
    "c.sort()\n",
    "VaR_90 = np.percentile(c,10)\n",
    "VaR_95 = np.percentile(c,5)\n",
    "VaR_99 = np.percentile(c,1)\n",
    "\n",
    "print(tabulate([['90%',VaR_90],['95%',VaR_95],['99%',VaR_99]], headers = ['Confidence Level','Value at Risk']))"
   ]
  },
  {
   "cell_type": "code",
   "execution_count": 381,
   "metadata": {},
   "outputs": [],
   "source": [
    "### option + aapl\n",
    "\n",
    "def d1(S,K,v,r,d,T):\n",
    "    return (log(S/K)+(r - d + v**2/2)*T)/(v * sqrt(T))\n",
    "    \n",
    "def d2(S,K,v,r,d,T):\n",
    "    return d1(S,K,v,r,d,T)-(v * sqrt(T))\n",
    "    \n",
    "def Price(S,K,v,r,d,T,callflag):\n",
    "    if callflag == 0:\n",
    "        return K*exp(-r*T)*0.5*(1+erf(-d2(S,K,v,r,d,T)/sqrt(2)))-S*exp(-d*T)*0.5*(1+erf(-d1(S,K,v,r,d,T)/sqrt(2)))\n",
    "    if callflag == 1:\n",
    "        return S*exp(-d*T)*0.5*(1+erf(d1(S,K,v,r,d,T)/sqrt(2)))-K*exp(-r*T)*0.5*(1+erf(d2(S,K,v,r,d,T)/sqrt(2)))"
   ]
  },
  {
   "cell_type": "code",
   "execution_count": 382,
   "metadata": {},
   "outputs": [
    {
     "name": "stdout",
     "output_type": "stream",
     "text": [
      "Confidence Level      Value at Risk\n",
      "------------------  ---------------\n",
      "90%                      -0.0303827\n",
      "95%                      -0.0390904\n",
      "99%                      -0.0554245\n"
     ]
    },
    {
     "data": {
      "image/png": "[encoded data removed]",
      "text/plain": [
       "<Figure size 432x288 with 1 Axes>"
      ]
     },
     "metadata": {
      "needs_background": "light"
     },
     "output_type": "display_data"
    }
   ],
   "source": [
    "## historical VaR\n",
    "data = pd.read_csv(\"/Users/guapofish/Desktop/miniHomeworkReturn.csv\")\n",
    "data['returns'] = data['appl+ option'].pct_change()\n",
    "mean_data = np.mean(data['returns'])\n",
    "std_data= np.std(data['returns'])\n",
    "data['returns'].hist(bins = 40, normed = True, histtype = 'stepfilled', alpha = 0.5)\n",
    "VaR_90 = norm.ppf(1-0.9, mean_data, std_data)\n",
    "VaR_95 = norm.ppf(1-0.95, mean_data, std_data)\n",
    "VaR_99 = norm.ppf(1-0.99, mean_data, std_data)\n",
    "\n",
    "print(tabulate([['90%',VaR_90],['95%',VaR_95],['99%',VaR_99]], headers = ['Confidence Level','Value at Risk']))"
   ]
  },
  {
   "cell_type": "code",
   "execution_count": 383,
   "metadata": {},
   "outputs": [
    {
     "name": "stdout",
     "output_type": "stream",
     "text": [
      "Confidence Level      Value at Risk\n",
      "------------------  ---------------\n",
      "90%                      -0.0179447\n",
      "95%                      -0.0281137\n",
      "99%                      -0.0399161\n"
     ]
    }
   ],
   "source": [
    "## parametic VaR\n",
    "data.sort_values('returns',inplace = True, ascending = True)\n",
    "VaR_90 = aapl['returns'].quantile(0.1)\n",
    "VaR_95 = aapl['returns'].quantile(0.05)\n",
    "VaR_99 = aapl['returns'].quantile(0.01)\n",
    "\n",
    "print(tabulate([['90%',VaR_90],['95%',VaR_95],['99%',VaR_99]], headers = ['Confidence Level','Value at Risk']))"
   ]
  },
  {
   "cell_type": "code",
   "execution_count": 385,
   "metadata": {},
   "outputs": [
    {
     "data": {
      "image/png": "[encoded data removed]",
      "text/plain": [
       "<Figure size 432x288 with 1 Axes>"
      ]
     },
     "metadata": {
      "needs_background": "light"
     },
     "output_type": "display_data"
    },
    {
     "name": "stdout",
     "output_type": "stream",
     "text": [
      "Confidence Level      Value at Risk\n",
      "------------------  ---------------\n",
      "90%                        -5.97486\n",
      "95%                        -7.68143\n",
      "99%                       -10.8827\n"
     ]
    }
   ],
   "source": [
    "## historical profit and loss\n",
    "aapl['appl+ option'] = data['appl+ option'] \n",
    "a = aapl['appl+ option'] \n",
    "b = a[1:]\n",
    "c = [0]*len(b)\n",
    "\n",
    "for i in range(len(c)):\n",
    "    c[i] = b[i] - a[i]\n",
    "\n",
    "mean_data_pl = np.mean(c)\n",
    "std_data_pl = np.std(c)   \n",
    "plt.hist(c,bins = 40)\n",
    "plt.xlabel('returns')\n",
    "plt.ylabel('Frequancy')\n",
    "plt.grid(True)\n",
    "plt.show()\n",
    "\n",
    "VaR_90 = norm.ppf(1-0.9, mean_data_pl, std_data_pl)\n",
    "VaR_95 = norm.ppf(1-0.95, mean_data_pl, std_data_pl)\n",
    "VaR_99 = norm.ppf(1-0.99, mean_data_pl, std_data_pl)\n",
    "\n",
    "print(tabulate([['90%',VaR_90],['95%',VaR_95],['99%',VaR_99]], headers = ['Confidence Level','Value at Risk']))\n",
    "\n",
    "\n"
   ]
  },
  {
   "cell_type": "code",
   "execution_count": 386,
   "metadata": {},
   "outputs": [
    {
     "name": "stdout",
     "output_type": "stream",
     "text": [
      "Confidence Level      Value at Risk\n",
      "------------------  ---------------\n",
      "90%                        -5.84112\n",
      "95%                        -8.73131\n",
      "99%                       -13.8877\n"
     ]
    }
   ],
   "source": [
    "## aapl+option Parametric loss and profit VaR\n",
    "c.sort()\n",
    "VaR_90 = np.percentile(c,10)\n",
    "VaR_95 = np.percentile(c,5)\n",
    "VaR_99 = np.percentile(c,1)\n",
    "\n",
    "print(tabulate([['90%',VaR_90],['95%',VaR_95],['99%',VaR_99]], headers = ['Confidence Level','Value at Risk']))\n"
   ]
  },
  {
   "cell_type": "code",
   "execution_count": null,
   "metadata": {},
   "outputs": [],
   "source": []
  }
 ],
 "metadata": {
  "kernelspec": {
   "display_name": "Python 3",
   "language": "python",
   "name": "python3"
  },
  "language_info": {
   "codemirror_mode": {
    "name": "ipython",
    "version": 3
   },
   "file_extension": ".py",
   "mimetype": "text/x-python",
   "name": "python",
   "nbconvert_exporter": "python",
   "pygments_lexer": "ipython3",
   "version": "3.7.1"
  }
 },
 "nbformat": 4,
 "nbformat_minor": 2
}
