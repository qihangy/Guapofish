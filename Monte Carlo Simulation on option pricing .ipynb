{
 "cells": [
  {
   "cell_type": "code",
   "execution_count": 2,
   "metadata": {},
   "outputs": [],
   "source": [
    "import numpy as np\n",
    "import scipy.stats as st\n",
    "import matplotlib.pyplot as plt\n",
    "import numpy.matlib as mat\n",
    "%matplotlib inline"
   ]
  },
  {
   "cell_type": "markdown",
   "metadata": {},
   "source": [
    "# Euler Discretization Methods\n",
    "\n",
    " - So far, we have discussed stochastic processes that can easily be exactly simulated at discrete points.\n",
    " \n",
    " - For some financial engineering models exact simulation is complicated or infeasible.\n",
    " \n",
    " - A useful method for \"approximately'' simulating stochastic differential equations is the **Euler method**.\n",
    "     - The Euler method discretizes time and simulates a stochastic process as it evolves using the dynamics described by the SDE at the current time.\n",
    "     - The Euler method gives a better approximation as the discretization becomes finer.\n",
    "\n",
    "**(Example):** Brownian motion with deterministic drift $\\mu(\\cdot)$ and volatility $\\sigma^2(\\cdot)$.\n",
    "\n",
    "- Here $\\mu(\\cdot)$ and $\\sigma(\\cdot)$ depend on $t$ and $X(t)$ in a know way.   (E.g. $\\mu(t) = \\mu$ or $\\mu(t) = t^2\\mu$).\n",
    "\n",
    "An exact simulation method for $X(t) = \\int^t_{s=0}\\mu(s)ds + \\sigma(t)W(t)$ is the random walk construction given by\n",
    "\n",
    "\\begin{equation}\n",
    "X(t_i) = X(t_{i-1}) + \\int_{t_{i-1}}^{t_i} \\mu(s) \\, ds + \\sqrt{\\left(\\int_{t_{i-1}}^{t_i}\\sigma^2(s) \\, ds\\right)} Z_i \\quad \\textrm{for }i = 1, \\ldots, m.\n",
    "\\end{equation}\n",
    "\n",
    "\n",
    "<br>\n",
    "<font color='blue'>\n",
    "It's easy to verify that when $\\mu$ and $\\sigma$ are constants we get back to what we saw last week:\n",
    "\n",
    "\\begin{equation*}\n",
    "    X(t_i) = X(t_{i-1}) + \\mu(t_i - t_{i-1}) + \\sigma \\sqrt{t_i - t_{i-1}}Z_i\n",
    "\\end{equation*}\n",
    "\n",
    "</font>\n",
    "\n",
    "\n",
    "The corresponding Euler approximation of the above (in black) is\n",
    "\n",
    "$$X(t_i) = X(t_{i-1}) + \\mu(t_{i-1})(t_i - t_{i-1}) + \\sigma(t_{i-1})\\sqrt{t_i - t_{i-1}}Z_i \\quad \\textrm{for }i = 1, \\ldots, m.$$\n",
    "\n",
    " - Notice that the terms $\\mu(t_{i-1})$ and $\\sigma(t_{i-1})$ are used to advance the stochastic process from time $t_{i-1}$ to time $t_i$.\n",
    " \n",
    " - The Euler approximation is inexact, even at the points $t_1, \\ldots, t_m$, but it avoids the need to integrate $\\mu(\\cdot)$ and $\\sigma^2(\\cdot)$.\n"
   ]
  },
  {
   "cell_type": "markdown",
   "metadata": {},
   "source": [
    "### Question 1\n",
    "\n",
    "#### Square-root interest-rate model: \n",
    "Assume the interest rate follows the SDE:\n",
    "\\begin{equation*}\n",
    "dr(t) = a(b-r(t))dt + \\sigma \\sqrt{r(t)}dW(t),\n",
    "\\end{equation*}\n",
    "where $\\{W(t): t \\geq 0\\}$ is a standard Brownian motion.\n",
    "\n",
    "- The process is *mean-reverting* in the sense that $r(t)$ is pulled toward $b$. \n",
    "\n",
    "- The constant $b$ can be thought of as the long-run interest rate and $a$ can be thought of as the speed at which $r(t)$ reverts to $b$.\n",
    "\n",
    "Choose the parameters as:\n",
    "$$ T = 1, \\: a = 0.2, \\: b = 0.09, \\: \\sigma = 0.05, \\: r(0) = 0.06. $$\n",
    "\n",
    "Use standard Monte Carlo simulation with an Euler approximation to estimate the price of a\n",
    "bond with payoff 1 and maturity $T$, i.e.,\n",
    "\n",
    "$$ B_0 = \\mathbb{E}(e^{-\\int_{0}^{T}r(u)\\,du}). $$\n",
    "\n",
    "Use 1,000 macroreplications with a discretized time step size of 0.01 and provide a 95\\% confidence interval for the bond price.\n",
    "\n",
    "The theoretical bond price is 0.9391.\n"
   ]
  },
  {
   "cell_type": "markdown",
   "metadata": {},
   "source": [
    "<font color='blue'>\n",
    "$$X(t_i) = X(t_{i-1}) + \\mu(t_{i-1})(t_i - t_{i-1}) - \\sigma(t_{i-1})\\sqrt{t_i - t_{i-1}}Z_i \\quad \\textrm{for }i = 1, \\ldots, m.$$\n",
    "\n",
    "</font>"
   ]
  },
  {
   "cell_type": "code",
   "execution_count": 3,
   "metadata": {},
   "outputs": [
    {
     "name": "stdout",
     "output_type": "stream",
     "text": [
      "Theoretical bond price: 0.9391\n",
      "Estimated bond price:   0.9385\n",
      "95% CI: [0.9381, 0.9389]\n"
     ]
    }
   ],
   "source": [
    "# Short rate model parameters\n",
    "a = 0.2\n",
    "b = 0.09\n",
    "sigma = 0.05\n",
    "r0 = 0.06\n",
    "\n",
    "# Monte Carlo parameters\n",
    "T = 1\n",
    "n = 100\n",
    "dt = T/n\n",
    "reps = 1000\n",
    "\n",
    "# Matrix for interest-rate over time\n",
    "r = np.zeros([reps,n+1])\n",
    "r[:,0] = r0 # initialize\n",
    "\n",
    "# Euler approximation\n",
    "for i in range(reps):\n",
    "    for j in range(n):\n",
    "        r[i,j+1] = r[i,j] + a*(b-r[i,j])*dt + sigma*np.sqrt(np.abs(r[i,j]))*np.sqrt(dt)*np.random.normal(0,1)\n",
    "\n",
    "# Calculate the discounted payoff via a Riemann sum\n",
    "B0 = np.exp((-dt)*np.sum(r,1))\n",
    "\n",
    "# Calculate the average discounted payoff and 95% CI\n",
    "bondPrice = np.mean(B0)\n",
    "std_bondPrice = np.std(B0, ddof=1)\n",
    "CIlb = bondPrice - 1.96 * std_bondPrice/np.sqrt(reps)\n",
    "CIub = bondPrice + 1.96 * std_bondPrice/np.sqrt(reps)\n",
    "\n",
    "print('Theoretical bond price: 0.9391')\n",
    "print('Estimated bond price:   %.4f' % bondPrice)\n",
    "print('95%% CI: [%.4f, %.4f]' % (CIlb, CIub))"
   ]
  },
  {
   "cell_type": "code",
   "execution_count": 4,
   "metadata": {},
   "outputs": [
    {
     "data": {
      "image/png": "[encoded data removed]",
      "text/plain": [
       "<Figure size 432x288 with 1 Axes>"
      ]
     },
     "metadata": {
      "needs_background": "light"
     },
     "output_type": "display_data"
    }
   ],
   "source": [
    "# Plot the simulated values\n",
    "plt.hist(x=B0, bins=25)\n",
    "plt.ylabel('Counts')\n",
    "plt.xlabel('discounted value at maturity')\n",
    "plt.title('Histogram of t = 0 value')\n",
    "plt.show()"
   ]
  },
  {
   "cell_type": "markdown",
   "metadata": {},
   "source": [
    "### Question 2\n",
    "\n",
    "#### Square-root stochastic volatility model:\n",
    "Assume the stock price follows a two-factor stochastic volatility SDE:\n",
    "\n",
    "\\begin{eqnarray*}\n",
    "dS(t) &=& rS(t)dt + \\sqrt{V(t)}S(t) dX_1(t)\\\\\n",
    "dV(t) &=& a(b-V(t))dt + \\sigma \\sqrt{V(t)}dX_2(t)\n",
    "\\end{eqnarray*}\n",
    "\n",
    "where $X = \\{(X_1(t), X_2(t)): t \\geq 0\\}$ is a two-dimensional Brownian motion with zero drift and covariance matrix\n",
    "$$ \\Sigma = \\begin{bmatrix} 1 & \\rho \\\\ \\rho & 1 \\end{bmatrix}. $$\n",
    "Choose the parameters as:\n",
    "$$ T = 1,\\: r = 0.05, \\: a = 0.2, \\: b = 0.09, \\: \\sigma = 0.1, \\: \\rho = 0.75, \\: S(0) = 80, \\: K = 80. $$"
   ]
  },
  {
   "cell_type": "markdown",
   "metadata": {},
   "source": [
    "### Part (a) \n",
    "(a) Assume that the initial value of the volatility process is the same as\n",
    "its long-term mean, i.e., $V(0) = b = 0.09$.\n",
    "\n",
    "Use standard Monte Carlo simulation with Euler approximations on $S$ and $V$ to estimate the price of a European call option, with strike $K$ and maturity $T$.\n",
    "\n",
    "Use 1,000 replications with a discretized time step size of $0.05$ and provide a 95\\% confidence interval for the price of the option."
   ]
  },
  {
   "cell_type": "markdown",
   "metadata": {},
   "source": [
    "<font color='blue'>    \n",
    "The pairs $(X_1(t), X_2(t))$ follow a joint distribution $\\mathcal{N}(0, \\Sigma)$.\n",
    "    \n",
    "Recall: We can simulate them with the Cholesky method.\n",
    "\n",
    "\n",
    "- Find the decomposition $A$: $AA^T = \\Sigma$, in this case $A =\n",
    "\\begin{bmatrix}\n",
    "1 & 0 \\\\\n",
    "\\rho & \\sqrt{1 - \\rho^2}\n",
    "\\end{bmatrix}$.\n",
    "\n",
    "- So we simulate the $(X_1, X_2)$ via $AZ$, $Z \\sim \\mathcal{N}(0, I)$.\n",
    "</font>"
   ]
  },
  {
   "cell_type": "code",
   "execution_count": 5,
   "metadata": {},
   "outputs": [
    {
     "data": {
      "text/plain": [
       "matrix([[0., 0.],\n",
       "        [0., 0.]])"
      ]
     },
     "execution_count": 5,
     "metadata": {},
     "output_type": "execute_result"
    }
   ],
   "source": [
    "# The Cholesky factorization\n",
    "rho = 0.75\n",
    "\n",
    "# By hand \n",
    "L = np.matrix([[1, 0], [rho, np.sqrt(1-rho**2)]])\n",
    "\n",
    "# Using numpy\n",
    "A = np.linalg.cholesky(np.matrix([[1, rho],[rho, 1]]))\n",
    "\n",
    "L - A"
   ]
  },
  {
   "cell_type": "markdown",
   "metadata": {},
   "source": [
    "<font color='blue'>\n",
    "Choose parameters as: $T = 1,\\: r = 0.05, \\: a = 0.2, \\: b = 0.09, \\: \\sigma = 0.1, \\: \\rho = 0.75, \\: S(0) = 80, \\: K = 80$ and set $V(0) = b$.\n",
    "    \n",
    "    \n",
    "Recall: Given $S(T)$ the discounter price is $e^{-rT}[S(T) - K]^+$.\n",
    "</font>"
   ]
  },
  {
   "cell_type": "code",
   "execution_count": 6,
   "metadata": {},
   "outputs": [
    {
     "name": "stdout",
     "output_type": "stream",
     "text": [
      "Estimated price: 6.95\n",
      "95% CI: [6.3291, 7.5723]\n"
     ]
    }
   ],
   "source": [
    "# For part c, simply change V_0 = b to the other initial values\n",
    "\n",
    "# Model parameters\n",
    "r = 0.05\n",
    "a = 0.2\n",
    "b = 0.09\n",
    "sigmaV = 0.1\n",
    "rho = 0.75\n",
    "S_0 = 80\n",
    "K = 80\n",
    "V_0 = 0.02 #(a): b; (c): 0.2, 0.02\n",
    "\n",
    "# Cholesky decomposition\n",
    "L = np.matrix([[1, 0], [rho, np.sqrt(1-rho**2)]])\n",
    "\n",
    "# Monte Carlo parameters\n",
    "T = 1\n",
    "reps = 1000\n",
    "dt = 0.05\n",
    "n = int(1/dt)\n",
    "\n",
    "# Payoffs\n",
    "C = np.zeros([reps, 1])\n",
    "\n",
    "for i in range(reps):\n",
    "    S = np.zeros(n+1)\n",
    "    V = np.zeros(n+1)\n",
    "    S[0] = S_0\n",
    "    V[0] = V_0\n",
    "    \n",
    "    for j in range(n):\n",
    "        X = L*np.random.normal(0,1,[2,1]) # location, scale, shape (2 x 1)\n",
    "        rootV = np.sqrt(np.abs(V[j]))     # Euler discretization\n",
    "        # Advance dt\n",
    "        S[j+1] = S[j] + r*S[j]*dt + rootV*S[j]*np.sqrt(dt)*X[0]\n",
    "        V[j+1] = V[j] + a*(b-V[j])*dt + sigmaV*rootV*np.sqrt(dt)*X[1]\n",
    "    \n",
    "    # Calculate discounted payoff\n",
    "    C[i] = np.exp(-r*T) * (S[n]-K) * ((S[n] > K) * 1) # (S[n] > K) in bool, * 1 makes it binary\n",
    "\n",
    "# Calculate average discounted payoff and 95% confidence interval    \n",
    "C_price = np.mean(C)\n",
    "std_C = np.std(C, ddof=1)\n",
    "\n",
    "CI_lb = C_price-1.96*std_C/np.sqrt(reps)\n",
    "CI_ub = C_price+1.96*std_C/np.sqrt(reps)\n",
    "\n",
    "print('Estimated price: %.2f' % C_price)\n",
    "print('95%% CI: [%.4f, %.4f]' % (CI_lb, CI_ub))"
   ]
  },
  {
   "cell_type": "code",
   "execution_count": 7,
   "metadata": {},
   "outputs": [
    {
     "data": {
      "image/png": "[encoded data removed]",
      "text/plain": [
       "<Figure size 432x288 with 1 Axes>"
      ]
     },
     "metadata": {
      "needs_background": "light"
     },
     "output_type": "display_data"
    }
   ],
   "source": [
    "# Plot the simulated values\n",
    "plt.hist(x=C, bins=15)\n",
    "plt.ylabel('Counts')\n",
    "plt.xlabel('discounted price at maturity')\n",
    "plt.title('Histogram of simulated price')\n",
    "plt.show()"
   ]
  },
  {
   "cell_type": "markdown",
   "metadata": {},
   "source": [
    "### Part (b) \n",
    "(b) For comparison, what is the theoretical Black-Scholes price\n",
    "for an option with volatility 0.3 under the geometric Brownian motion model, assuming all other parameters are the same?\n",
    "The two prices should be close."
   ]
  },
  {
   "cell_type": "markdown",
   "metadata": {},
   "source": [
    "<font color='blue'>\n",
    "Above we assumed a two-factor model where the volatility was given by $V(t)$:\n",
    "\n",
    "\\begin{eqnarray*}\n",
    "dS(t) &=& rS(t)dt + \\sqrt{V(t)}S(t) dX_1(t)\\\\\n",
    "dV(t) &=& a(b-V(t))dt + \\sigma \\sqrt{V(t)}dX_2(t)\n",
    "\\end{eqnarray*}\n",
    "\n",
    "Now assume a single-factor GBM with constant volatility $\\sigma^2_S = b = \\mathbb{E}[V(t)]$.\n",
    "\n",
    "\\begin{eqnarray*}\n",
    "dS(t) &=& rS(t)dt + \\sqrt{\\sigma^2_S} S(t) dX(t)\n",
    "\\end{eqnarray*}\n",
    "\n",
    "See $\\texttt{GBMpost}$ for the **Black-Scholes** model:\n",
    "\\begin{eqnarray*}\n",
    "Price &=& S(0) \\Phi(d + \\sigma_S \\sqrt{T}) - Ke^{rT}\\Phi(d), \\quad \\Phi(\\cdot) \\textrm{ is a std. Normal CDF} \\\\\n",
    "    d &=& \\frac{\\log(S(0)/K) + (r - \\tfrac{\\sigma^2_S}{2})T}{\\sigma \\sqrt{T}}\n",
    "\\end{eqnarray*}\n",
    "\n",
    "</font>"
   ]
  },
  {
   "cell_type": "code",
   "execution_count": 15,
   "metadata": {},
   "outputs": [
    {
     "name": "stdout",
     "output_type": "stream",
     "text": [
      "Theoretical Black-Scholes price: 11.385\n"
     ]
    }
   ],
   "source": [
    "# Since b = E(V(t)), the volatility should be set as sqrt(b) for a fair comparison\n",
    "sigma_S = np.sqrt(b) # = 0.03 \n",
    "\n",
    "# Calculate Black-Scholes price\n",
    "d = (np.log(S_0/K) + (r - sigma_S**2 / 2) * T) / (sigma_S * np.sqrt(T))\n",
    "\n",
    "BS_price = S_0 * st.norm.cdf(d + sigma_S*np.sqrt(T)) - K * np.exp(-r * T) * st.norm.cdf(d) # st is scipy.stats\n",
    "\n",
    "print('Theoretical Black-Scholes price: %.3f' % BS_price)"
   ]
  },
  {
   "cell_type": "code",
   "execution_count": null,
   "metadata": {},
   "outputs": [],
   "source": []
  }
 ],
 "metadata": {
  "kernelspec": {
   "display_name": "Python 3",
   "language": "python",
   "name": "python3"
  },
  "language_info": {
   "codemirror_mode": {
    "name": "ipython",
    "version": 3
   },
   "file_extension": ".py",
   "mimetype": "text/x-python",
   "name": "python",
   "nbconvert_exporter": "python",
   "pygments_lexer": "ipython3",
   "version": "3.7.6"
  }
 },
 "nbformat": 4,
 "nbformat_minor": 2
}
