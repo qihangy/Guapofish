{
 "cells": [
  {
   "cell_type": "code",
   "execution_count": 1,
   "metadata": {},
   "outputs": [],
   "source": [
    "import pandas as pd\n",
    "import numpy as np\n",
    "import matplotlib.pyplot as plt"
   ]
  },
  {
   "cell_type": "code",
   "execution_count": 2,
   "metadata": {},
   "outputs": [
    {
     "data": {
      "text/html": [
       "<div>\n",
       "<style scoped>\n",
       "    .dataframe tbody tr th:only-of-type {\n",
       "        vertical-align: middle;\n",
       "    }\n",
       "\n",
       "    .dataframe tbody tr th {\n",
       "        vertical-align: top;\n",
       "    }\n",
       "\n",
       "    .dataframe thead th {\n",
       "        text-align: right;\n",
       "    }\n",
       "</style>\n",
       "<table border=\"1\" class=\"dataframe\">\n",
       "  <thead>\n",
       "    <tr style=\"text-align: right;\">\n",
       "      <th></th>\n",
       "      <th>Week</th>\n",
       "      <th>A</th>\n",
       "      <th>B</th>\n",
       "      <th>C</th>\n",
       "      <th>D</th>\n",
       "    </tr>\n",
       "  </thead>\n",
       "  <tbody>\n",
       "    <tr>\n",
       "      <th>0</th>\n",
       "      <td>1</td>\n",
       "      <td>115</td>\n",
       "      <td>65</td>\n",
       "      <td>210</td>\n",
       "      <td>320</td>\n",
       "    </tr>\n",
       "    <tr>\n",
       "      <th>1</th>\n",
       "      <td>2</td>\n",
       "      <td>117</td>\n",
       "      <td>67</td>\n",
       "      <td>220</td>\n",
       "      <td>325</td>\n",
       "    </tr>\n",
       "    <tr>\n",
       "      <th>2</th>\n",
       "      <td>3</td>\n",
       "      <td>118</td>\n",
       "      <td>68</td>\n",
       "      <td>222</td>\n",
       "      <td>315</td>\n",
       "    </tr>\n",
       "    <tr>\n",
       "      <th>3</th>\n",
       "      <td>4</td>\n",
       "      <td>121</td>\n",
       "      <td>63</td>\n",
       "      <td>221</td>\n",
       "      <td>316</td>\n",
       "    </tr>\n",
       "    <tr>\n",
       "      <th>4</th>\n",
       "      <td>5</td>\n",
       "      <td>119</td>\n",
       "      <td>64</td>\n",
       "      <td>209</td>\n",
       "      <td>325</td>\n",
       "    </tr>\n",
       "  </tbody>\n",
       "</table>\n",
       "</div>"
      ],
      "text/plain": [
       "   Week    A   B    C    D\n",
       "0     1  115  65  210  320\n",
       "1     2  117  67  220  325\n",
       "2     3  118  68  222  315\n",
       "3     4  121  63  221  316\n",
       "4     5  119  64  209  325"
      ]
     },
     "execution_count": 2,
     "metadata": {},
     "output_type": "execute_result"
    }
   ],
   "source": [
    "df = pd.read_excel(\"/Users/guapofish/Desktop/stock.xlsx\")\n",
    "df.head()"
   ]
  },
  {
   "cell_type": "code",
   "execution_count": 3,
   "metadata": {},
   "outputs": [
    {
     "data": {
      "text/html": [
       "<div>\n",
       "<style scoped>\n",
       "    .dataframe tbody tr th:only-of-type {\n",
       "        vertical-align: middle;\n",
       "    }\n",
       "\n",
       "    .dataframe tbody tr th {\n",
       "        vertical-align: top;\n",
       "    }\n",
       "\n",
       "    .dataframe thead th {\n",
       "        text-align: right;\n",
       "    }\n",
       "</style>\n",
       "<table border=\"1\" class=\"dataframe\">\n",
       "  <thead>\n",
       "    <tr style=\"text-align: right;\">\n",
       "      <th></th>\n",
       "      <th>Week</th>\n",
       "      <th>A</th>\n",
       "      <th>B</th>\n",
       "      <th>C</th>\n",
       "      <th>D</th>\n",
       "      <th>Return_A</th>\n",
       "      <th>Return_B</th>\n",
       "      <th>Return_C</th>\n",
       "      <th>Return_D</th>\n",
       "    </tr>\n",
       "  </thead>\n",
       "  <tbody>\n",
       "    <tr>\n",
       "      <th>0</th>\n",
       "      <td>1</td>\n",
       "      <td>115</td>\n",
       "      <td>65</td>\n",
       "      <td>210</td>\n",
       "      <td>320</td>\n",
       "      <td>NaN</td>\n",
       "      <td>NaN</td>\n",
       "      <td>NaN</td>\n",
       "      <td>NaN</td>\n",
       "    </tr>\n",
       "    <tr>\n",
       "      <th>1</th>\n",
       "      <td>2</td>\n",
       "      <td>117</td>\n",
       "      <td>67</td>\n",
       "      <td>220</td>\n",
       "      <td>325</td>\n",
       "      <td>0.017391</td>\n",
       "      <td>0.030769</td>\n",
       "      <td>0.047619</td>\n",
       "      <td>0.015625</td>\n",
       "    </tr>\n",
       "    <tr>\n",
       "      <th>2</th>\n",
       "      <td>3</td>\n",
       "      <td>118</td>\n",
       "      <td>68</td>\n",
       "      <td>222</td>\n",
       "      <td>315</td>\n",
       "      <td>0.008547</td>\n",
       "      <td>0.014925</td>\n",
       "      <td>0.009091</td>\n",
       "      <td>-0.030769</td>\n",
       "    </tr>\n",
       "    <tr>\n",
       "      <th>3</th>\n",
       "      <td>4</td>\n",
       "      <td>121</td>\n",
       "      <td>63</td>\n",
       "      <td>221</td>\n",
       "      <td>316</td>\n",
       "      <td>0.025424</td>\n",
       "      <td>-0.073529</td>\n",
       "      <td>-0.004505</td>\n",
       "      <td>0.003175</td>\n",
       "    </tr>\n",
       "    <tr>\n",
       "      <th>4</th>\n",
       "      <td>5</td>\n",
       "      <td>119</td>\n",
       "      <td>64</td>\n",
       "      <td>209</td>\n",
       "      <td>325</td>\n",
       "      <td>-0.016529</td>\n",
       "      <td>0.015873</td>\n",
       "      <td>-0.054299</td>\n",
       "      <td>0.028481</td>\n",
       "    </tr>\n",
       "    <tr>\n",
       "      <th>5</th>\n",
       "      <td>6</td>\n",
       "      <td>114</td>\n",
       "      <td>65</td>\n",
       "      <td>212</td>\n",
       "      <td>320</td>\n",
       "      <td>-0.042017</td>\n",
       "      <td>0.015625</td>\n",
       "      <td>0.014354</td>\n",
       "      <td>-0.015385</td>\n",
       "    </tr>\n",
       "    <tr>\n",
       "      <th>6</th>\n",
       "      <td>7</td>\n",
       "      <td>120</td>\n",
       "      <td>71</td>\n",
       "      <td>205</td>\n",
       "      <td>325</td>\n",
       "      <td>0.052632</td>\n",
       "      <td>0.092308</td>\n",
       "      <td>-0.033019</td>\n",
       "      <td>0.015625</td>\n",
       "    </tr>\n",
       "    <tr>\n",
       "      <th>7</th>\n",
       "      <td>8</td>\n",
       "      <td>122</td>\n",
       "      <td>72</td>\n",
       "      <td>200</td>\n",
       "      <td>327</td>\n",
       "      <td>0.016667</td>\n",
       "      <td>0.014085</td>\n",
       "      <td>-0.024390</td>\n",
       "      <td>0.006154</td>\n",
       "    </tr>\n",
       "    <tr>\n",
       "      <th>8</th>\n",
       "      <td>9</td>\n",
       "      <td>123</td>\n",
       "      <td>73</td>\n",
       "      <td>205</td>\n",
       "      <td>325</td>\n",
       "      <td>0.008197</td>\n",
       "      <td>0.013889</td>\n",
       "      <td>0.025000</td>\n",
       "      <td>-0.006116</td>\n",
       "    </tr>\n",
       "    <tr>\n",
       "      <th>9</th>\n",
       "      <td>10</td>\n",
       "      <td>116</td>\n",
       "      <td>70</td>\n",
       "      <td>210</td>\n",
       "      <td>320</td>\n",
       "      <td>-0.056911</td>\n",
       "      <td>-0.041096</td>\n",
       "      <td>0.024390</td>\n",
       "      <td>-0.015385</td>\n",
       "    </tr>\n",
       "  </tbody>\n",
       "</table>\n",
       "</div>"
      ],
      "text/plain": [
       "   Week    A   B    C    D  Return_A  Return_B  Return_C  Return_D\n",
       "0     1  115  65  210  320       NaN       NaN       NaN       NaN\n",
       "1     2  117  67  220  325  0.017391  0.030769  0.047619  0.015625\n",
       "2     3  118  68  222  315  0.008547  0.014925  0.009091 -0.030769\n",
       "3     4  121  63  221  316  0.025424 -0.073529 -0.004505  0.003175\n",
       "4     5  119  64  209  325 -0.016529  0.015873 -0.054299  0.028481\n",
       "5     6  114  65  212  320 -0.042017  0.015625  0.014354 -0.015385\n",
       "6     7  120  71  205  325  0.052632  0.092308 -0.033019  0.015625\n",
       "7     8  122  72  200  327  0.016667  0.014085 -0.024390  0.006154\n",
       "8     9  123  73  205  325  0.008197  0.013889  0.025000 -0.006116\n",
       "9    10  116  70  210  320 -0.056911 -0.041096  0.024390 -0.015385"
      ]
     },
     "execution_count": 3,
     "metadata": {},
     "output_type": "execute_result"
    }
   ],
   "source": [
    "# part a\n",
    "df['Return_A'] = df.A.pct_change()\n",
    "df['Return_B'] = df.B.pct_change()\n",
    "df['Return_C'] = df.C.pct_change()\n",
    "df['Return_D'] = df.D.pct_change()\n",
    "df.head(10)"
   ]
  },
  {
   "cell_type": "code",
   "execution_count": 4,
   "metadata": {},
   "outputs": [
    {
     "name": "stdout",
     "output_type": "stream",
     "text": [
      "The expected return of A is 0.748611%\n",
      "The expected return of B is 1.210237%\n",
      "The expected return of C is 0.501347%\n",
      "The expected return of D is 0.266224%\n"
     ]
    }
   ],
   "source": [
    "# part b \n",
    "Expected_return_A = df['Return_A'].mean()\n",
    "Expected_return_B = df['Return_B'].mean()\n",
    "Expected_return_C = df['Return_C'].mean()\n",
    "Expected_return_D = df['Return_D'].mean()\n",
    "\n",
    "print(\"The expected return of A is {:%}\".format(Expected_return_A))\n",
    "print(\"The expected return of B is {:%}\".format(Expected_return_B))\n",
    "print(\"The expected return of C is {:%}\".format(Expected_return_C))\n",
    "print(\"The expected return of D is {:%}\".format(Expected_return_D))\n"
   ]
  },
  {
   "cell_type": "code",
   "execution_count": 5,
   "metadata": {},
   "outputs": [
    {
     "data": {
      "text/html": [
       "<div>\n",
       "<style scoped>\n",
       "    .dataframe tbody tr th:only-of-type {\n",
       "        vertical-align: middle;\n",
       "    }\n",
       "\n",
       "    .dataframe tbody tr th {\n",
       "        vertical-align: top;\n",
       "    }\n",
       "\n",
       "    .dataframe thead th {\n",
       "        text-align: right;\n",
       "    }\n",
       "</style>\n",
       "<table border=\"1\" class=\"dataframe\">\n",
       "  <thead>\n",
       "    <tr style=\"text-align: right;\">\n",
       "      <th></th>\n",
       "      <th>Return_A</th>\n",
       "      <th>Return_B</th>\n",
       "      <th>Return_C</th>\n",
       "      <th>Return_D</th>\n",
       "    </tr>\n",
       "  </thead>\n",
       "  <tbody>\n",
       "    <tr>\n",
       "      <th>Return_A</th>\n",
       "      <td>0.001414</td>\n",
       "      <td>0.000847</td>\n",
       "      <td>0.000072</td>\n",
       "      <td>0.000095</td>\n",
       "    </tr>\n",
       "    <tr>\n",
       "      <th>Return_B</th>\n",
       "      <td>0.000847</td>\n",
       "      <td>0.001665</td>\n",
       "      <td>0.000019</td>\n",
       "      <td>0.000448</td>\n",
       "    </tr>\n",
       "    <tr>\n",
       "      <th>Return_C</th>\n",
       "      <td>0.000072</td>\n",
       "      <td>0.000019</td>\n",
       "      <td>0.000821</td>\n",
       "      <td>-0.000245</td>\n",
       "    </tr>\n",
       "    <tr>\n",
       "      <th>Return_D</th>\n",
       "      <td>0.000095</td>\n",
       "      <td>0.000448</td>\n",
       "      <td>-0.000245</td>\n",
       "      <td>0.001237</td>\n",
       "    </tr>\n",
       "  </tbody>\n",
       "</table>\n",
       "</div>"
      ],
      "text/plain": [
       "          Return_A  Return_B  Return_C  Return_D\n",
       "Return_A  0.001414  0.000847  0.000072  0.000095\n",
       "Return_B  0.000847  0.001665  0.000019  0.000448\n",
       "Return_C  0.000072  0.000019  0.000821 -0.000245\n",
       "Return_D  0.000095  0.000448 -0.000245  0.001237"
      ]
     },
     "execution_count": 5,
     "metadata": {},
     "output_type": "execute_result"
    }
   ],
   "source": [
    "# part c\n",
    "df1 = df[['Return_A','Return_B','Return_C','Return_D']]\n",
    "df1.cov()"
   ]
  },
  {
   "cell_type": "markdown",
   "metadata": {},
   "source": [
    "# Problem 4\n",
    "-- Method 1 (Simulation)"
   ]
  },
  {
   "cell_type": "code",
   "execution_count": 6,
   "metadata": {},
   "outputs": [],
   "source": [
    "# empty lists to store returns, volatility and weights of imiginary portfolios\n",
    "port_returns = []\n",
    "port_volatility = []\n",
    "stock_weights = []\n",
    "\n",
    "# set the number of combinations for imaginary portfolios\n",
    "num_assets = 4\n",
    "num_portfolios = 10000\n"
   ]
  },
  {
   "cell_type": "code",
   "execution_count": 7,
   "metadata": {},
   "outputs": [],
   "source": [
    "# calculate monthly and annual returns of the stocks\n",
    "returns_weekly = df1\n",
    "returns_annual = (returns_weekly.mean() + 1)**52 - 1\n",
    "\n",
    "# get monthly and covariance of returns of the stock\n",
    "cov_monthly = returns_weekly.cov()\n",
    "cov_annual = cov_monthly*52"
   ]
  },
  {
   "cell_type": "code",
   "execution_count": 8,
   "metadata": {},
   "outputs": [
    {
     "data": {
      "text/plain": [
       "(Return_A    0.473776\n",
       " Return_B    0.869266\n",
       " Return_C    0.296994\n",
       " Return_D    0.148265\n",
       " dtype: float64,\n",
       "           Return_A  Return_B  Return_C  Return_D\n",
       " Return_A  0.073508  0.044068  0.003739  0.004922\n",
       " Return_B  0.044068  0.086567  0.000984  0.023317\n",
       " Return_C  0.003739  0.000984  0.042694 -0.012717\n",
       " Return_D  0.004922  0.023317 -0.012717  0.064342)"
      ]
     },
     "execution_count": 8,
     "metadata": {},
     "output_type": "execute_result"
    }
   ],
   "source": [
    "returns_annual, cov_annual"
   ]
  },
  {
   "cell_type": "code",
   "execution_count": 9,
   "metadata": {},
   "outputs": [],
   "source": [
    "# populate the empty lists with each portfolios returns,risk and weights\n",
    "for i in range(num_portfolios):\n",
    "    weights = np.random.uniform(0,1,num_assets)\n",
    "    weights /= np.sum(weights)\n",
    "    returns = np.dot(weights, returns_annual)\n",
    "    volatility = np.sqrt(np.dot(weights.T, np.dot(cov_annual, weights)))\n",
    "    port_returns.append(returns)\n",
    "    port_volatility.append(volatility)\n",
    "    stock_weights.append(weights)"
   ]
  },
  {
   "cell_type": "code",
   "execution_count": 10,
   "metadata": {},
   "outputs": [],
   "source": [
    "# a dictionary for Returns and Risk values of each portfolio\n",
    "portfolio = {'Returns': port_returns,\n",
    "             'Volatility': port_volatility}\n",
    "\n",
    "selected = ['Asset A','Asset B','Asset C','Asset D']"
   ]
  },
  {
   "cell_type": "code",
   "execution_count": 11,
   "metadata": {},
   "outputs": [
    {
     "data": {
      "text/html": [
       "<div>\n",
       "<style scoped>\n",
       "    .dataframe tbody tr th:only-of-type {\n",
       "        vertical-align: middle;\n",
       "    }\n",
       "\n",
       "    .dataframe tbody tr th {\n",
       "        vertical-align: top;\n",
       "    }\n",
       "\n",
       "    .dataframe thead th {\n",
       "        text-align: right;\n",
       "    }\n",
       "</style>\n",
       "<table border=\"1\" class=\"dataframe\">\n",
       "  <thead>\n",
       "    <tr style=\"text-align: right;\">\n",
       "      <th></th>\n",
       "      <th>Returns</th>\n",
       "      <th>Volatility</th>\n",
       "      <th>Asset A weight</th>\n",
       "      <th>Asset B weight</th>\n",
       "      <th>Asset C weight</th>\n",
       "      <th>Asset D weight</th>\n",
       "    </tr>\n",
       "  </thead>\n",
       "  <tbody>\n",
       "    <tr>\n",
       "      <th>0</th>\n",
       "      <td>0.316391</td>\n",
       "      <td>0.179638</td>\n",
       "      <td>0.319038</td>\n",
       "      <td>0.076594</td>\n",
       "      <td>0.060859</td>\n",
       "      <td>0.543509</td>\n",
       "    </tr>\n",
       "    <tr>\n",
       "      <th>1</th>\n",
       "      <td>0.482674</td>\n",
       "      <td>0.158958</td>\n",
       "      <td>0.217220</td>\n",
       "      <td>0.302313</td>\n",
       "      <td>0.307495</td>\n",
       "      <td>0.172972</td>\n",
       "    </tr>\n",
       "    <tr>\n",
       "      <th>2</th>\n",
       "      <td>0.537673</td>\n",
       "      <td>0.196375</td>\n",
       "      <td>0.121032</td>\n",
       "      <td>0.466271</td>\n",
       "      <td>0.092979</td>\n",
       "      <td>0.319718</td>\n",
       "    </tr>\n",
       "    <tr>\n",
       "      <th>3</th>\n",
       "      <td>0.331639</td>\n",
       "      <td>0.153462</td>\n",
       "      <td>0.284977</td>\n",
       "      <td>0.084557</td>\n",
       "      <td>0.199324</td>\n",
       "      <td>0.431142</td>\n",
       "    </tr>\n",
       "    <tr>\n",
       "      <th>4</th>\n",
       "      <td>0.436492</td>\n",
       "      <td>0.186654</td>\n",
       "      <td>0.294640</td>\n",
       "      <td>0.256999</td>\n",
       "      <td>0.047209</td>\n",
       "      <td>0.401151</td>\n",
       "    </tr>\n",
       "  </tbody>\n",
       "</table>\n",
       "</div>"
      ],
      "text/plain": [
       "    Returns  Volatility  Asset A weight  Asset B weight  Asset C weight  \\\n",
       "0  0.316391    0.179638        0.319038        0.076594        0.060859   \n",
       "1  0.482674    0.158958        0.217220        0.302313        0.307495   \n",
       "2  0.537673    0.196375        0.121032        0.466271        0.092979   \n",
       "3  0.331639    0.153462        0.284977        0.084557        0.199324   \n",
       "4  0.436492    0.186654        0.294640        0.256999        0.047209   \n",
       "\n",
       "   Asset D weight  \n",
       "0        0.543509  \n",
       "1        0.172972  \n",
       "2        0.319718  \n",
       "3        0.431142  \n",
       "4        0.401151  "
      ]
     },
     "execution_count": 11,
     "metadata": {},
     "output_type": "execute_result"
    }
   ],
   "source": [
    "# extend original dictionary to accomodate each ticker and weight in the portfolio\n",
    "for counter,symbol in enumerate(selected):\n",
    "    portfolio[symbol+' weight'] = [weight[counter] for weight in stock_weights]\n",
    "\n",
    "# make a nice dataframe of the extended dictionary\n",
    "df = pd.DataFrame(portfolio)\n",
    "\n",
    "# get better labels for desired arrangement of columns\n",
    "column_order = ['Returns', 'Volatility'] + [stock+' weight' for stock in selected]\n",
    "\n",
    "# reorder dataframe columns\n",
    "df = df[column_order]\n",
    "\n",
    "df.head()"
   ]
  },
  {
   "cell_type": "code",
   "execution_count": 12,
   "metadata": {},
   "outputs": [
    {
     "data": {
      "image/png": "[encoded data removed]",
      "text/plain": [
       "<Figure size 576x576 with 1 Axes>"
      ]
     },
     "metadata": {},
     "output_type": "display_data"
    }
   ],
   "source": [
    "# plot the efficient frontier with a scatter plot\n",
    "plt.style.use('seaborn')\n",
    "df.plot.scatter(x='Volatility', y='Returns', figsize=(8, 8), grid=True)\n",
    "plt.xlabel('Volatility (Std. Deviation)')\n",
    "plt.ylabel('Expected Returns')\n",
    "plt.title('Efficient Frontier')\n",
    "plt.show()"
   ]
  },
  {
   "cell_type": "code",
   "execution_count": 13,
   "metadata": {},
   "outputs": [
    {
     "data": {
      "text/html": [
       "<div>\n",
       "<style scoped>\n",
       "    .dataframe tbody tr th:only-of-type {\n",
       "        vertical-align: middle;\n",
       "    }\n",
       "\n",
       "    .dataframe tbody tr th {\n",
       "        vertical-align: top;\n",
       "    }\n",
       "\n",
       "    .dataframe thead th {\n",
       "        text-align: right;\n",
       "    }\n",
       "</style>\n",
       "<table border=\"1\" class=\"dataframe\">\n",
       "  <thead>\n",
       "    <tr style=\"text-align: right;\">\n",
       "      <th></th>\n",
       "      <th>Returns</th>\n",
       "      <th>Volatility</th>\n",
       "      <th>Asset A weight</th>\n",
       "      <th>Asset B weight</th>\n",
       "      <th>Asset C weight</th>\n",
       "      <th>Asset D weight</th>\n",
       "    </tr>\n",
       "  </thead>\n",
       "  <tbody>\n",
       "  </tbody>\n",
       "</table>\n",
       "</div>"
      ],
      "text/plain": [
       "Empty DataFrame\n",
       "Columns: [Returns, Volatility, Asset A weight, Asset B weight, Asset C weight, Asset D weight]\n",
       "Index: []"
      ]
     },
     "execution_count": 13,
     "metadata": {},
     "output_type": "execute_result"
    }
   ],
   "source": [
    "#desired stardard deviation is less than 7%\n",
    "df_new = df.loc[df['Volatility'] < 0.07]\n",
    "df_new"
   ]
  },
  {
   "cell_type": "code",
   "execution_count": 14,
   "metadata": {},
   "outputs": [
    {
     "data": {
      "text/plain": [
       "0.27950303925383835"
      ]
     },
     "execution_count": 14,
     "metadata": {},
     "output_type": "execute_result"
    }
   ],
   "source": [
    "df['Volatility'].max()"
   ]
  },
  {
   "cell_type": "code",
   "execution_count": 15,
   "metadata": {},
   "outputs": [
    {
     "data": {
      "text/html": [
       "<div>\n",
       "<style scoped>\n",
       "    .dataframe tbody tr th:only-of-type {\n",
       "        vertical-align: middle;\n",
       "    }\n",
       "\n",
       "    .dataframe tbody tr th {\n",
       "        vertical-align: top;\n",
       "    }\n",
       "\n",
       "    .dataframe thead th {\n",
       "        text-align: right;\n",
       "    }\n",
       "</style>\n",
       "<table border=\"1\" class=\"dataframe\">\n",
       "  <thead>\n",
       "    <tr style=\"text-align: right;\">\n",
       "      <th></th>\n",
       "      <th>Returns</th>\n",
       "      <th>Volatility</th>\n",
       "      <th>Asset A weight</th>\n",
       "      <th>Asset B weight</th>\n",
       "      <th>Asset C weight</th>\n",
       "      <th>Asset D weight</th>\n",
       "    </tr>\n",
       "  </thead>\n",
       "  <tbody>\n",
       "    <tr>\n",
       "      <th>0</th>\n",
       "      <td>0.316391</td>\n",
       "      <td>0.179638</td>\n",
       "      <td>0.319038</td>\n",
       "      <td>0.076594</td>\n",
       "      <td>0.060859</td>\n",
       "      <td>0.543509</td>\n",
       "    </tr>\n",
       "    <tr>\n",
       "      <th>1</th>\n",
       "      <td>0.482674</td>\n",
       "      <td>0.158958</td>\n",
       "      <td>0.217220</td>\n",
       "      <td>0.302313</td>\n",
       "      <td>0.307495</td>\n",
       "      <td>0.172972</td>\n",
       "    </tr>\n",
       "    <tr>\n",
       "      <th>2</th>\n",
       "      <td>0.537673</td>\n",
       "      <td>0.196375</td>\n",
       "      <td>0.121032</td>\n",
       "      <td>0.466271</td>\n",
       "      <td>0.092979</td>\n",
       "      <td>0.319718</td>\n",
       "    </tr>\n",
       "    <tr>\n",
       "      <th>3</th>\n",
       "      <td>0.331639</td>\n",
       "      <td>0.153462</td>\n",
       "      <td>0.284977</td>\n",
       "      <td>0.084557</td>\n",
       "      <td>0.199324</td>\n",
       "      <td>0.431142</td>\n",
       "    </tr>\n",
       "    <tr>\n",
       "      <th>4</th>\n",
       "      <td>0.436492</td>\n",
       "      <td>0.186654</td>\n",
       "      <td>0.294640</td>\n",
       "      <td>0.256999</td>\n",
       "      <td>0.047209</td>\n",
       "      <td>0.401151</td>\n",
       "    </tr>\n",
       "    <tr>\n",
       "      <th>...</th>\n",
       "      <td>...</td>\n",
       "      <td>...</td>\n",
       "      <td>...</td>\n",
       "      <td>...</td>\n",
       "      <td>...</td>\n",
       "      <td>...</td>\n",
       "    </tr>\n",
       "    <tr>\n",
       "      <th>9995</th>\n",
       "      <td>0.480084</td>\n",
       "      <td>0.162806</td>\n",
       "      <td>0.250791</td>\n",
       "      <td>0.294085</td>\n",
       "      <td>0.256495</td>\n",
       "      <td>0.198629</td>\n",
       "    </tr>\n",
       "    <tr>\n",
       "      <th>9996</th>\n",
       "      <td>0.468355</td>\n",
       "      <td>0.156374</td>\n",
       "      <td>0.088208</td>\n",
       "      <td>0.287975</td>\n",
       "      <td>0.563089</td>\n",
       "      <td>0.060728</td>\n",
       "    </tr>\n",
       "    <tr>\n",
       "      <th>9997</th>\n",
       "      <td>0.354612</td>\n",
       "      <td>0.142752</td>\n",
       "      <td>0.167453</td>\n",
       "      <td>0.149045</td>\n",
       "      <td>0.298381</td>\n",
       "      <td>0.385121</td>\n",
       "    </tr>\n",
       "    <tr>\n",
       "      <th>9998</th>\n",
       "      <td>0.436986</td>\n",
       "      <td>0.174593</td>\n",
       "      <td>0.148278</td>\n",
       "      <td>0.305205</td>\n",
       "      <td>0.137176</td>\n",
       "      <td>0.409341</td>\n",
       "    </tr>\n",
       "    <tr>\n",
       "      <th>9999</th>\n",
       "      <td>0.577701</td>\n",
       "      <td>0.190697</td>\n",
       "      <td>0.254629</td>\n",
       "      <td>0.440385</td>\n",
       "      <td>0.195214</td>\n",
       "      <td>0.109772</td>\n",
       "    </tr>\n",
       "  </tbody>\n",
       "</table>\n",
       "<p>9992 rows × 6 columns</p>\n",
       "</div>"
      ],
      "text/plain": [
       "       Returns  Volatility  Asset A weight  Asset B weight  Asset C weight  \\\n",
       "0     0.316391    0.179638        0.319038        0.076594        0.060859   \n",
       "1     0.482674    0.158958        0.217220        0.302313        0.307495   \n",
       "2     0.537673    0.196375        0.121032        0.466271        0.092979   \n",
       "3     0.331639    0.153462        0.284977        0.084557        0.199324   \n",
       "4     0.436492    0.186654        0.294640        0.256999        0.047209   \n",
       "...        ...         ...             ...             ...             ...   \n",
       "9995  0.480084    0.162806        0.250791        0.294085        0.256495   \n",
       "9996  0.468355    0.156374        0.088208        0.287975        0.563089   \n",
       "9997  0.354612    0.142752        0.167453        0.149045        0.298381   \n",
       "9998  0.436986    0.174593        0.148278        0.305205        0.137176   \n",
       "9999  0.577701    0.190697        0.254629        0.440385        0.195214   \n",
       "\n",
       "      Asset D weight  \n",
       "0           0.543509  \n",
       "1           0.172972  \n",
       "2           0.319718  \n",
       "3           0.431142  \n",
       "4           0.401151  \n",
       "...              ...  \n",
       "9995        0.198629  \n",
       "9996        0.060728  \n",
       "9997        0.385121  \n",
       "9998        0.409341  \n",
       "9999        0.109772  \n",
       "\n",
       "[9992 rows x 6 columns]"
      ]
     },
     "execution_count": 15,
     "metadata": {},
     "output_type": "execute_result"
    }
   ],
   "source": [
    "#no such weight, try 7% as weekly, then annual vol is sqrt(0.07) = 0.2646\n",
    "df_new = df.loc[df['Volatility'] < 0.2646]\n",
    "df_new"
   ]
  },
  {
   "cell_type": "code",
   "execution_count": 16,
   "metadata": {},
   "outputs": [
    {
     "data": {
      "text/plain": [
       "Returns           0.791206\n",
       "Volatility        0.261191\n",
       "Asset A weight    0.040800\n",
       "Asset B weight    0.857337\n",
       "Asset C weight    0.077453\n",
       "Asset D weight    0.024410\n",
       "Name: 1380, dtype: float64"
      ]
     },
     "execution_count": 16,
     "metadata": {},
     "output_type": "execute_result"
    }
   ],
   "source": [
    "#pick the max expected return given the certain condition\n",
    "pick1_index = df_new.Returns.idxmax()\n",
    "df_new.loc[pick1_index]"
   ]
  },
  {
   "cell_type": "code",
   "execution_count": 17,
   "metadata": {},
   "outputs": [
    {
     "data": {
      "text/plain": [
       "Returns           0.453653\n",
       "Volatility        0.147534\n",
       "Asset A weight    0.075409\n",
       "Asset B weight    0.296442\n",
       "Asset C weight    0.451203\n",
       "Asset D weight    0.176946\n",
       "Name: 1635, dtype: float64"
      ]
     },
     "execution_count": 17,
     "metadata": {},
     "output_type": "execute_result"
    }
   ],
   "source": [
    "# go with 45%\n",
    "df_new2 = df.loc[df['Returns'] >= 0.45]\n",
    "\n",
    "#pick the max expected return given the certain condition\n",
    "pick2_index = df_new2.Volatility.idxmin()\n",
    "df_new2.loc[pick2_index]"
   ]
  },
  {
   "cell_type": "markdown",
   "metadata": {},
   "source": [
    "-- Method 2:"
   ]
  },
  {
   "cell_type": "code",
   "execution_count": 18,
   "metadata": {},
   "outputs": [],
   "source": [
    "from scipy.optimize import minimize\n",
    "target_vol = 0.07\n",
    "target_ret = 0.45\n",
    "\n",
    "class cal_weight(): \n",
    "    \n",
    "    \n",
    "    def __init__(self,returns_annual,cov_annual):\n",
    "        self.returns_annual = returns_annual\n",
    "        self.cov_annual = cov_annual\n",
    "            \n",
    "    \n",
    "    def calc_fct(self,weights):\n",
    "        r = np.sum(np.array(weights)*self.returns_annual)\n",
    "        vol = np.sqrt(np.dot(np.array(weights).T,np.dot(self.cov_annual,np.array(weights))))\n",
    "        return (r, vol)\n",
    "\n",
    "    \n",
    "    def ret_fct(self,weights): \n",
    "        return -self.calc_fct(weights)[0]\n",
    "\n",
    "    \n",
    "    def vol_fct(self,weights):\n",
    "        return self.calc_fct(weights)[1]\n",
    "\n",
    "    \n",
    "    def weight_vol_cons(self,target_vol):\n",
    "        \n",
    "        bounds = ((-1,1),(-1,1),(-1,1),(-1,1))\n",
    "        init_guess = [0.25, 0.25, 0.25, 0.25]\n",
    "\n",
    "        cons = ({'type':'eq','fun': lambda x: np.sum(x)-1,\n",
    "            'type':'eq','fun': lambda x: self.vol_fct(x)-target_vol})\n",
    "\n",
    "        max_ret_w = minimize(self.ret_fct, init_guess,# args=args,\n",
    "                     method='SLSQP', bounds=bounds, constraints=cons)\n",
    "        \n",
    "        return max_ret_w\n",
    "        \n",
    "    \n",
    "    def weight_ret_cons(self,target_ret):\n",
    "        \n",
    "        bounds = ((-1,1),(-1,1),(-1,1),(-1,1))\n",
    "        init_guess = [0.25, 0.25, 0.25, 0.25]\n",
    "        \n",
    "\n",
    "        cons = ({'type':'eq','fun': lambda x: np.sum(x)-1,\n",
    "            'type':'eq','fun': lambda x: -self.ret_fct(x)-target_ret})\n",
    "\n",
    "        max_ret_w = minimize(self.vol_fct, init_guess,# args=args,\n",
    "                     method='SLSQP', bounds=bounds, constraints=cons)\n",
    "        \n",
    "        \n",
    "        return max_ret_w\n",
    "        \n"
   ]
  },
  {
   "cell_type": "code",
   "execution_count": 19,
   "metadata": {},
   "outputs": [
    {
     "name": "stdout",
     "output_type": "stream",
     "text": [
      "     fun: -0.2285694547696498\n",
      "     jac: array([-0.47377596, -0.8692657 , -0.29699385, -0.14826532])\n",
      " message: 'Optimization terminated successfully.'\n",
      "    nfev: 43\n",
      "     nit: 7\n",
      "    njev: 7\n",
      "  status: 0\n",
      " success: True\n",
      "       x: array([0.00412673, 0.21127285, 0.14417742, 0.00095949])\n"
     ]
    }
   ],
   "source": [
    "w1 = cal_weight(returns_annual,cov_annual)\n",
    "w1 = w1.weight_vol_cons(target_vol)\n",
    "print(w1)"
   ]
  },
  {
   "cell_type": "code",
   "execution_count": 20,
   "metadata": {},
   "outputs": [
    {
     "name": "stdout",
     "output_type": "stream",
     "text": [
      "The maximum annual return given the annual volatility no more than 7% is 22.860000%\n",
      "Here the annual volatility is 7.000000%\n"
     ]
    }
   ],
   "source": [
    "ret_1 = -cal_weight(returns_annual,cov_annual).ret_fct(list(w1['x']))\n",
    "vol_1 = cal_weight(returns_annual,cov_annual).vol_fct(list(w1['x']))\n",
    "print(\"The maximum annual return given the annual volatility no more than 7% is {:%}\".format(round(ret_1,4)))\n",
    "print(\"Here the annual volatility is {:%}\".format(round(vol_1,4)))"
   ]
  },
  {
   "cell_type": "code",
   "execution_count": 21,
   "metadata": {},
   "outputs": [
    {
     "name": "stdout",
     "output_type": "stream",
     "text": [
      "     fun: 0.1378138455260196\n",
      "     jac: array([0.14422394, 0.26604675, 0.09122266, 0.04547269])\n",
      " message: 'Optimization terminated successfully.'\n",
      "    nfev: 49\n",
      "     nit: 8\n",
      "    njev: 8\n",
      "  status: 0\n",
      " success: True\n",
      "       x: array([0.00763588, 0.41618861, 0.28399628, 0.00174468])\n"
     ]
    }
   ],
   "source": [
    "w2 = cal_weight(returns_annual,cov_annual)\n",
    "w2 = w2.weight_ret_cons(target_ret)\n",
    "print(w2)"
   ]
  },
  {
   "cell_type": "code",
   "execution_count": 22,
   "metadata": {},
   "outputs": [
    {
     "name": "stdout",
     "output_type": "stream",
     "text": [
      "The minimum annual volatility given annual return is more than 45% is 13.780000%\n",
      "Here the annual return is 45.000000%\n"
     ]
    }
   ],
   "source": [
    "ret_2 = -cal_weight(returns_annual,cov_annual).ret_fct(list(w2['x']))\n",
    "vol_2 = cal_weight(returns_annual,cov_annual).vol_fct(list(w2['x']))\n",
    "print(\"The minimum annual volatility given annual return is more than 45% is {:%}\".format(round(vol_2,4)))\n",
    "print(\"Here the annual return is {:%}\".format(round(ret_2,4)))"
   ]
  },
  {
   "cell_type": "code",
   "execution_count": null,
   "metadata": {},
   "outputs": [],
   "source": []
  },
  {
   "cell_type": "code",
   "execution_count": null,
   "metadata": {},
   "outputs": [],
   "source": []
  }
 ],
 "metadata": {
  "kernelspec": {
   "display_name": "Python 3",
   "language": "python",
   "name": "python3"
  },
  "language_info": {
   "codemirror_mode": {
    "name": "ipython",
    "version": 3
   },
   "file_extension": ".py",
   "mimetype": "text/x-python",
   "name": "python",
   "nbconvert_exporter": "python",
   "pygments_lexer": "ipython3",
   "version": "3.7.6"
  }
 },
 "nbformat": 4,
 "nbformat_minor": 4
}
