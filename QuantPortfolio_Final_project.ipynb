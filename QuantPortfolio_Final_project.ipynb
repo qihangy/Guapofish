{
 "cells": [
  {
   "cell_type": "code",
   "execution_count": 53,
   "metadata": {},
   "outputs": [],
   "source": [
    "# ! pip install PyPortfolioOpt\n",
    "import pandas as pd\n",
    "import numpy as np\n",
    "from pypfopt.efficient_frontier import EfficientFrontier\n",
    "from pypfopt import risk_models\n",
    "from pypfopt import expected_returns\n",
    "from pypfopt.hierarchical_risk_parity import hrp_portfolio\n",
    "from pypfopt.value_at_risk import CVAROpt\n",
    "from pypfopt import discrete_allocation\n",
    "import matplotlib.pyplot as plt"
   ]
  },
  {
   "cell_type": "markdown",
   "metadata": {},
   "source": [
    "https://medium.com/python-data/effient-frontier-in-python-34b0c3043314"
   ]
  },
  {
   "cell_type": "code",
   "execution_count": 54,
   "metadata": {},
   "outputs": [
    {
     "data": {
      "text/html": [
       "<div>\n",
       "<style scoped>\n",
       "    .dataframe tbody tr th:only-of-type {\n",
       "        vertical-align: middle;\n",
       "    }\n",
       "\n",
       "    .dataframe tbody tr th {\n",
       "        vertical-align: top;\n",
       "    }\n",
       "\n",
       "    .dataframe thead th {\n",
       "        text-align: right;\n",
       "    }\n",
       "</style>\n",
       "<table border=\"1\" class=\"dataframe\">\n",
       "  <thead>\n",
       "    <tr style=\"text-align: right;\">\n",
       "      <th></th>\n",
       "      <th>Asset 1</th>\n",
       "      <th>Asset 2</th>\n",
       "      <th>Asset 3</th>\n",
       "      <th>Asset 4</th>\n",
       "      <th>Asset 5</th>\n",
       "    </tr>\n",
       "    <tr>\n",
       "      <th>Time</th>\n",
       "      <th></th>\n",
       "      <th></th>\n",
       "      <th></th>\n",
       "      <th></th>\n",
       "      <th></th>\n",
       "    </tr>\n",
       "  </thead>\n",
       "  <tbody>\n",
       "    <tr>\n",
       "      <th>2001-01-31</th>\n",
       "      <td>0.026618</td>\n",
       "      <td>0.066785</td>\n",
       "      <td>0.016776</td>\n",
       "      <td>-0.005879</td>\n",
       "      <td>-0.004952</td>\n",
       "    </tr>\n",
       "    <tr>\n",
       "      <th>2001-02-28</th>\n",
       "      <td>-0.021992</td>\n",
       "      <td>0.003230</td>\n",
       "      <td>0.003005</td>\n",
       "      <td>-0.105203</td>\n",
       "      <td>-0.018137</td>\n",
       "    </tr>\n",
       "    <tr>\n",
       "      <th>2001-03-31</th>\n",
       "      <td>-0.018649</td>\n",
       "      <td>-0.022686</td>\n",
       "      <td>0.007740</td>\n",
       "      <td>-0.075525</td>\n",
       "      <td>-0.037709</td>\n",
       "    </tr>\n",
       "    <tr>\n",
       "      <th>2001-04-30</th>\n",
       "      <td>0.012484</td>\n",
       "      <td>-0.010529</td>\n",
       "      <td>-0.003717</td>\n",
       "      <td>0.093232</td>\n",
       "      <td>0.019367</td>\n",
       "    </tr>\n",
       "    <tr>\n",
       "      <th>2001-05-31</th>\n",
       "      <td>0.011831</td>\n",
       "      <td>0.019415</td>\n",
       "      <td>0.009853</td>\n",
       "      <td>-0.061596</td>\n",
       "      <td>0.010683</td>\n",
       "    </tr>\n",
       "  </tbody>\n",
       "</table>\n",
       "</div>"
      ],
      "text/plain": [
       "             Asset 1   Asset 2   Asset 3   Asset 4   Asset 5\n",
       "Time                                                        \n",
       "2001-01-31  0.026618  0.066785  0.016776 -0.005879 -0.004952\n",
       "2001-02-28 -0.021992  0.003230  0.003005 -0.105203 -0.018137\n",
       "2001-03-31 -0.018649 -0.022686  0.007740 -0.075525 -0.037709\n",
       "2001-04-30  0.012484 -0.010529 -0.003717  0.093232  0.019367\n",
       "2001-05-31  0.011831  0.019415  0.009853 -0.061596  0.010683"
      ]
     },
     "execution_count": 54,
     "metadata": {},
     "output_type": "execute_result"
    }
   ],
   "source": [
    "df = pd.read_excel(\"/Users/guapofish/Desktop/data_new.xlsx\", parse_dates=True, index_col=\"Time\")\n",
    "df.head()"
   ]
  },
  {
   "cell_type": "code",
   "execution_count": 55,
   "metadata": {},
   "outputs": [],
   "source": [
    "# empty lists to store returns, volatility and weights of imiginary portfolios\n",
    "port_returns = []\n",
    "port_volatility = []\n",
    "stock_weights = []\n",
    "\n",
    "# set the number of combinations for imaginary portfolios\n",
    "num_assets = 5\n",
    "num_portfolios = 10000\n",
    "\n",
    "selected = ['Asset 1','Asset 2','Asset 3','Asset 4','Asset 5']"
   ]
  },
  {
   "cell_type": "code",
   "execution_count": 56,
   "metadata": {},
   "outputs": [],
   "source": [
    "# calculate monthly and annual returns of the stocks\n",
    "returns_monthly = df\n",
    "returns_annual = (returns_monthly.mean() + 1)**12 - 1\n",
    "\n",
    "# get monthly and covariance of returns of the stock\n",
    "cov_monthly = returns_monthly.cov()\n",
    "cov_annual = (cov_monthly + 1)**12 - 1"
   ]
  },
  {
   "cell_type": "code",
   "execution_count": 57,
   "metadata": {},
   "outputs": [],
   "source": [
    "# populate the empty lists with each portfolios returns,risk and weights\n",
    "for single_portfolio in range(num_portfolios):\n",
    "    weights = np.random.random(num_assets)\n",
    "    weights /= np.sum(weights)\n",
    "    returns = np.dot(weights, returns_annual)\n",
    "    volatility = np.sqrt(np.dot(weights.T, np.dot(cov_annual, weights)))\n",
    "    port_returns.append(returns)\n",
    "    port_volatility.append(volatility)\n",
    "    stock_weights.append(weights)"
   ]
  },
  {
   "cell_type": "code",
   "execution_count": 58,
   "metadata": {},
   "outputs": [
    {
     "data": {
      "text/html": [
       "<div>\n",
       "<style scoped>\n",
       "    .dataframe tbody tr th:only-of-type {\n",
       "        vertical-align: middle;\n",
       "    }\n",
       "\n",
       "    .dataframe tbody tr th {\n",
       "        vertical-align: top;\n",
       "    }\n",
       "\n",
       "    .dataframe thead th {\n",
       "        text-align: right;\n",
       "    }\n",
       "</style>\n",
       "<table border=\"1\" class=\"dataframe\">\n",
       "  <thead>\n",
       "    <tr style=\"text-align: right;\">\n",
       "      <th></th>\n",
       "      <th>Returns</th>\n",
       "      <th>Volatility</th>\n",
       "      <th>Asset 1 weight</th>\n",
       "      <th>Asset 2 weight</th>\n",
       "      <th>Asset 3 weight</th>\n",
       "      <th>Asset 4 weight</th>\n",
       "      <th>Asset 5 weight</th>\n",
       "    </tr>\n",
       "  </thead>\n",
       "  <tbody>\n",
       "    <tr>\n",
       "      <th>0</th>\n",
       "      <td>0.091965</td>\n",
       "      <td>0.079403</td>\n",
       "      <td>0.247587</td>\n",
       "      <td>0.266009</td>\n",
       "      <td>0.142636</td>\n",
       "      <td>0.278531</td>\n",
       "      <td>0.065238</td>\n",
       "    </tr>\n",
       "    <tr>\n",
       "      <th>1</th>\n",
       "      <td>0.096202</td>\n",
       "      <td>0.091540</td>\n",
       "      <td>0.075986</td>\n",
       "      <td>0.130142</td>\n",
       "      <td>0.245740</td>\n",
       "      <td>0.394797</td>\n",
       "      <td>0.153336</td>\n",
       "    </tr>\n",
       "    <tr>\n",
       "      <th>2</th>\n",
       "      <td>0.098571</td>\n",
       "      <td>0.073991</td>\n",
       "      <td>0.219878</td>\n",
       "      <td>0.203300</td>\n",
       "      <td>0.180771</td>\n",
       "      <td>0.233572</td>\n",
       "      <td>0.162480</td>\n",
       "    </tr>\n",
       "    <tr>\n",
       "      <th>3</th>\n",
       "      <td>0.096988</td>\n",
       "      <td>0.066681</td>\n",
       "      <td>0.153457</td>\n",
       "      <td>0.209373</td>\n",
       "      <td>0.261717</td>\n",
       "      <td>0.193845</td>\n",
       "      <td>0.181607</td>\n",
       "    </tr>\n",
       "    <tr>\n",
       "      <th>4</th>\n",
       "      <td>0.077509</td>\n",
       "      <td>0.049718</td>\n",
       "      <td>0.006018</td>\n",
       "      <td>0.506972</td>\n",
       "      <td>0.406737</td>\n",
       "      <td>0.077090</td>\n",
       "      <td>0.003183</td>\n",
       "    </tr>\n",
       "  </tbody>\n",
       "</table>\n",
       "</div>"
      ],
      "text/plain": [
       "    Returns  Volatility  Asset 1 weight  Asset 2 weight  Asset 3 weight  \\\n",
       "0  0.091965    0.079403        0.247587        0.266009        0.142636   \n",
       "1  0.096202    0.091540        0.075986        0.130142        0.245740   \n",
       "2  0.098571    0.073991        0.219878        0.203300        0.180771   \n",
       "3  0.096988    0.066681        0.153457        0.209373        0.261717   \n",
       "4  0.077509    0.049718        0.006018        0.506972        0.406737   \n",
       "\n",
       "   Asset 4 weight  Asset 5 weight  \n",
       "0        0.278531        0.065238  \n",
       "1        0.394797        0.153336  \n",
       "2        0.233572        0.162480  \n",
       "3        0.193845        0.181607  \n",
       "4        0.077090        0.003183  "
      ]
     },
     "execution_count": 58,
     "metadata": {},
     "output_type": "execute_result"
    }
   ],
   "source": [
    "# a dictionary for Returns and Risk values of each portfolio\n",
    "portfolio = {'Returns': port_returns,\n",
    "             'Volatility': port_volatility}\n",
    "\n",
    "# extend original dictionary to accomodate each ticker and weight in the portfolio\n",
    "for counter,symbol in enumerate(selected):\n",
    "    portfolio[symbol+' weight'] = [weight[counter] for weight in stock_weights]\n",
    "\n",
    "# make a nice dataframe of the extended dictionary\n",
    "df = pd.DataFrame(portfolio)\n",
    "\n",
    "# get better labels for desired arrangement of columns\n",
    "column_order = ['Returns', 'Volatility'] + [stock+' weight' for stock in selected]\n",
    "\n",
    "# reorder dataframe columns\n",
    "df = df[column_order]\n",
    "\n",
    "df.head()"
   ]
  },
  {
   "cell_type": "code",
   "execution_count": 59,
   "metadata": {},
   "outputs": [
    {
     "data": {
      "image/png": "[encoded data removed]",
      "text/plain": [
       "<Figure size 576x576 with 1 Axes>"
      ]
     },
     "metadata": {},
     "output_type": "display_data"
    }
   ],
   "source": [
    "# plot the efficient frontier with a scatter plot\n",
    "plt.style.use('seaborn')\n",
    "df.plot.scatter(x='Volatility', y='Returns', figsize=(8, 8), grid=True)\n",
    "plt.xlabel('Volatility (Std. Deviation)')\n",
    "plt.ylabel('Expected Returns')\n",
    "plt.title('Efficient Frontier')\n",
    "plt.show()"
   ]
  },
  {
   "cell_type": "markdown",
   "metadata": {},
   "source": [
    "Since the client's minimum accepted loss is 20% with 99percent cl, the max volitility is 20%/2.56 = 7.8125%\n",
    "Also, the return should be greater than 8.7% to fulfill the minimum requirement of the client. \n"
   ]
  },
  {
   "cell_type": "code",
   "execution_count": 89,
   "metadata": {},
   "outputs": [
    {
     "data": {
      "text/html": [
       "<div>\n",
       "<style scoped>\n",
       "    .dataframe tbody tr th:only-of-type {\n",
       "        vertical-align: middle;\n",
       "    }\n",
       "\n",
       "    .dataframe tbody tr th {\n",
       "        vertical-align: top;\n",
       "    }\n",
       "\n",
       "    .dataframe thead th {\n",
       "        text-align: right;\n",
       "    }\n",
       "</style>\n",
       "<table border=\"1\" class=\"dataframe\">\n",
       "  <thead>\n",
       "    <tr style=\"text-align: right;\">\n",
       "      <th></th>\n",
       "      <th>Returns</th>\n",
       "      <th>Volatility</th>\n",
       "      <th>Asset 1 weight</th>\n",
       "      <th>Asset 2 weight</th>\n",
       "      <th>Asset 3 weight</th>\n",
       "      <th>Asset 4 weight</th>\n",
       "      <th>Asset 5 weight</th>\n",
       "    </tr>\n",
       "  </thead>\n",
       "  <tbody>\n",
       "    <tr>\n",
       "      <th>6009</th>\n",
       "      <td>0.124662</td>\n",
       "      <td>0.077931</td>\n",
       "      <td>0.007491</td>\n",
       "      <td>0.632133</td>\n",
       "      <td>0.034151</td>\n",
       "      <td>0.027418</td>\n",
       "      <td>0.298807</td>\n",
       "    </tr>\n",
       "  </tbody>\n",
       "</table>\n",
       "</div>"
      ],
      "text/plain": [
       "       Returns  Volatility  Asset 1 weight  Asset 2 weight  Asset 3 weight  \\\n",
       "6009  0.124662    0.077931        0.007491        0.632133        0.034151   \n",
       "\n",
       "      Asset 4 weight  Asset 5 weight  \n",
       "6009        0.027418        0.298807  "
      ]
     },
     "execution_count": 89,
     "metadata": {},
     "output_type": "execute_result"
    }
   ],
   "source": [
    "df_new = df.loc[df['Volatility'] < 0.078125]\n",
    "pick1 = df_new.loc[df_new['Returns'] == df_new['Returns'].max()]\n",
    "pick1"
   ]
  },
  {
   "cell_type": "code",
   "execution_count": 97,
   "metadata": {},
   "outputs": [
    {
     "data": {
      "text/html": [
       "<div>\n",
       "<style scoped>\n",
       "    .dataframe tbody tr th:only-of-type {\n",
       "        vertical-align: middle;\n",
       "    }\n",
       "\n",
       "    .dataframe tbody tr th {\n",
       "        vertical-align: top;\n",
       "    }\n",
       "\n",
       "    .dataframe thead th {\n",
       "        text-align: right;\n",
       "    }\n",
       "</style>\n",
       "<table border=\"1\" class=\"dataframe\">\n",
       "  <thead>\n",
       "    <tr style=\"text-align: right;\">\n",
       "      <th></th>\n",
       "      <th>Returns</th>\n",
       "      <th>Volatility</th>\n",
       "      <th>Asset 1 weight</th>\n",
       "      <th>Asset 2 weight</th>\n",
       "      <th>Asset 3 weight</th>\n",
       "      <th>Asset 4 weight</th>\n",
       "      <th>Asset 5 weight</th>\n",
       "    </tr>\n",
       "  </thead>\n",
       "  <tbody>\n",
       "    <tr>\n",
       "      <th>4775</th>\n",
       "      <td>0.118117</td>\n",
       "      <td>0.077575</td>\n",
       "      <td>0.13797</td>\n",
       "      <td>0.27981</td>\n",
       "      <td>0.134466</td>\n",
       "      <td>0.113142</td>\n",
       "      <td>0.334612</td>\n",
       "    </tr>\n",
       "  </tbody>\n",
       "</table>\n",
       "</div>"
      ],
      "text/plain": [
       "       Returns  Volatility  Asset 1 weight  Asset 2 weight  Asset 3 weight  \\\n",
       "4775  0.118117    0.077575         0.13797         0.27981        0.134466   \n",
       "\n",
       "      Asset 4 weight  Asset 5 weight  \n",
       "4775        0.113142        0.334612  "
      ]
     },
     "execution_count": 97,
     "metadata": {},
     "output_type": "execute_result"
    }
   ],
   "source": [
    "df_new2 = df_new.loc[(df_new['Asset 1 weight']>0.1)&(df_new['Asset 2 weight']>0.1)&(df_new['Asset 3 weight']>0.1)&\n",
    "                     (df_new['Asset 4 weight']>0.1)&(df_new['Asset 5 weight']>0.1)]\n",
    "pick2 = df_new2.loc[df_new2['Returns'] == df_new2['Returns'].max()]\n",
    "pick2"
   ]
  },
  {
   "cell_type": "code",
   "execution_count": null,
   "metadata": {},
   "outputs": [],
   "source": []
  },
  {
   "cell_type": "code",
   "execution_count": null,
   "metadata": {},
   "outputs": [],
   "source": []
  },
  {
   "cell_type": "code",
   "execution_count": 40,
   "metadata": {},
   "outputs": [
    {
     "name": "stdout",
     "output_type": "stream",
     "text": [
      "{'Asset 1': 0.20190017748783182, 'Asset 2': 0.20135494201304366, 'Asset 3': 0.2050722672980744, 'Asset 4': 0.1941121786138559, 'Asset 5': 0.19756043458719427}\n",
      "Expected annual return: 10.1%\n",
      "Annual volatility: 7.0%\n",
      "Sharpe Ratio: 1.15\n"
     ]
    },
    {
     "data": {
      "text/plain": [
       "(0.10063213994535794, 0.07015436208329501, 1.149353191318632)"
      ]
     },
     "execution_count": 40,
     "metadata": {},
     "output_type": "execute_result"
    }
   ],
   "source": [
    "mu = returns_annual\n",
    "S = cov_annual\n",
    "ef = EfficientFrontier(mu, S, weight_bounds=(0, 1), gamma=1)\n",
    "weights = ef.min_volatility()\n",
    "print(weights)\n",
    "ef.portfolio_performance(verbose=True)"
   ]
  },
  {
   "cell_type": "code",
   "execution_count": 49,
   "metadata": {},
   "outputs": [
    {
     "data": {
      "text/plain": [
       "{'Asset 1': 0.20190017748783182,\n",
       " 'Asset 2': 0.20135494201304366,\n",
       " 'Asset 3': 0.2050722672980744,\n",
       " 'Asset 4': 0.1941121786138559,\n",
       " 'Asset 5': 0.19756043458719427}"
      ]
     },
     "execution_count": 49,
     "metadata": {},
     "output_type": "execute_result"
    }
   ],
   "source": [
    "weights"
   ]
  },
  {
   "cell_type": "code",
   "execution_count": null,
   "metadata": {},
   "outputs": [],
   "source": []
  }
 ],
 "metadata": {
  "kernelspec": {
   "display_name": "Python 3",
   "language": "python",
   "name": "python3"
  },
  "language_info": {
   "codemirror_mode": {
    "name": "ipython",
    "version": 3
   },
   "file_extension": ".py",
   "mimetype": "text/x-python",
   "name": "python",
   "nbconvert_exporter": "python",
   "pygments_lexer": "ipython3",
   "version": "3.7.1"
  }
 },
 "nbformat": 4,
 "nbformat_minor": 2
}
