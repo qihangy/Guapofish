{
 "cells": [
  {
   "cell_type": "markdown",
   "metadata": {},
   "source": [
    "Use the BS model to calculate expected losses of tranches of a CDX which is 1.25billioninsize.EL(i.e.meanofthedistribution)is100 million of the entire portfolio. Simply set S0=100. Volatility is 0.3, risk-free rate is 5% (i.e. 0.05), time horizon is 1 year (T = 1). Evaluate the expected losses of equity tranche (0~3%), mezzanine tranches (3~7, 7~10), senior tranche (10%~30%) and super-senior tranche (30%~100%). [Hint: equity tranche value is BS(K1) – BS(K0), mezzanine value is BS(K2) – BS(K1), etc.]"
   ]
  },
  {
   "cell_type": "code",
   "execution_count": 1,
   "metadata": {},
   "outputs": [],
   "source": [
    "import numpy as np\n",
    "from scipy.stats import norm\n",
    "from math import sqrt, pi, log, e, erf"
   ]
  },
  {
   "cell_type": "code",
   "execution_count": 2,
   "metadata": {},
   "outputs": [],
   "source": [
    "class EquityOption:     \n",
    "    RiskfreeRate = 0.05\n",
    "    Vol = 0.3       \n",
    "    def __init__ (self, *args):\n",
    "        self.CallFlag = int(args[0])\n",
    "        self.Spot = float(args[1])\n",
    "        self.Strike = float(args[2])\n",
    "        self.Maturity = float(args[3])\n",
    "        self.DividendYield =  float(args[4])\n",
    "        \n",
    "    def __imul__(self, stock_split):\n",
    "        self.Spot = self.Spot * stock_split \n",
    "        self.Strike = self.Strike * stock_split\n",
    "        return self\n",
    "    \n",
    "    @staticmethod \n",
    "    def N(x): \n",
    "        return (0.5*(1+ erf(x / sqrt(2.0))))\n",
    "    def d1(self):\n",
    "        return float((log(self.Spot/self.Strike) + (self.RiskfreeRate - self.DividendYield + (self.Vol**2) / 2  ) * self.Maturity) / (self.Vol * sqrt(self.Maturity)));\n",
    "    def d2(self): \n",
    "        return float(self.d1() - self.Vol*sqrt(self.Maturity))\n",
    "    def BS_Option(self, v=Vol):\n",
    "        self.Vol = v #essential step\n",
    "        dfq = e**(-self.DividendYield * self.Maturity)\n",
    "        dfr = e**(-self.RiskfreeRate * self.Maturity)\n",
    "        if self.CallFlag: \n",
    "            return self.Spot * dfq* self.N(self.d1()) - self.Strike*dfr * self.N(self.d2())\n",
    "        else: \n",
    "            return self.Strike*dfr * self.N(-self.d2()) - self.Spot * dfq* self.N(-self.d1())"
   ]
  },
  {
   "cell_type": "code",
   "execution_count": 6,
   "metadata": {},
   "outputs": [],
   "source": [
    "sigma = 0.3\n",
    "S0 = 100\n",
    "rf = 0.05\n",
    "T = 1\n",
    "d=0\n",
    "CallFlag =1\n",
    "K0 = 0\n",
    "K1_E = 1250*0.03\n",
    "K2_M = 1250*0.07\n",
    "K3_M = 1250*0.1\n",
    "K4_Senior = 1250*0.3\n",
    "K5_Super_Senior= 1250*1"
   ]
  },
  {
   "cell_type": "code",
   "execution_count": 7,
   "metadata": {},
   "outputs": [
    {
     "name": "stdout",
     "output_type": "stream",
     "text": [
      "C0:  100\n",
      "C1:  64.33023180124518\n",
      "C2:  21.2686986727699\n",
      "C3:  5.691524187581631\n",
      "C4:  0.00013519529706777517\n",
      "C5:  2.7755575615628914e-14\n"
     ]
    }
   ],
   "source": [
    "C0 = 100\n",
    "C1 = EquityOption(CallFlag, S0, K1_E, T, d).BS_Option() \n",
    "C2 = EquityOption(CallFlag, S0, K2_M, T, d).BS_Option()\n",
    "C3 = EquityOption(CallFlag, S0, K3_M, T, d).BS_Option()\n",
    "C4 = EquityOption(CallFlag, S0, K4_Senior, T, d).BS_Option()\n",
    "C5 = EquityOption(CallFlag, S0, K5_Super_Senior, T, d).BS_Option() \n",
    "print(\"C0: \", C0)\n",
    "print(\"C1: \", C1)\n",
    "print(\"C2: \", C2)\n",
    "print(\"C3: \", C3)\n",
    "print(\"C4: \", C4)\n",
    "print(\"C5: \", C5)\n"
   ]
  },
  {
   "cell_type": "code",
   "execution_count": 8,
   "metadata": {},
   "outputs": [
    {
     "name": "stdout",
     "output_type": "stream",
     "text": [
      "The expected losses of equity tranche is (in millions) -35.669768198754824\n",
      "The expected losses of mezzanine tranche1 is (in millions) -43.061533128475276\n",
      "The expected losses of mezzanine  tranche2 is (in millions) -15.57717448518827\n",
      "The expected losses of senior  tranche is (in millions) -5.691388992284564\n",
      "The expected losses of super-senior tranche is (in millions) -0.0001351952970400196\n"
     ]
    }
   ],
   "source": [
    "print('The expected losses of equity tranche is (in millions)', C1-C0)\n",
    "print('The expected losses of mezzanine tranche1 is (in millions)', C2-C1)\n",
    "print('The expected losses of mezzanine  tranche2 is (in millions)', C3-C2)\n",
    "print('The expected losses of senior  tranche is (in millions)', C4- C3)\n",
    "print('The expected losses of super-senior tranche is (in millions)', C5-C4)\n"
   ]
  },
  {
   "cell_type": "code",
   "execution_count": null,
   "metadata": {},
   "outputs": [],
   "source": []
  }
 ],
 "metadata": {
  "kernelspec": {
   "display_name": "Python 3",
   "language": "python",
   "name": "python3"
  },
  "language_info": {
   "codemirror_mode": {
    "name": "ipython",
    "version": 3
   },
   "file_extension": ".py",
   "mimetype": "text/x-python",
   "name": "python",
   "nbconvert_exporter": "python",
   "pygments_lexer": "ipython3",
   "version": "3.7.1"
  }
 },
 "nbformat": 4,
 "nbformat_minor": 2
}
